{
  "cells": [
    {
      "cell_type": "markdown",
      "metadata": {
        "id": "IY3RdPTs3lrd"
      },
      "source": [
        "Paketleri yükleme"
      ]
    },
    {
      "cell_type": "code",
      "execution_count": null,
      "metadata": {
        "colab": {
          "base_uri": "https://localhost:8080/"
        },
        "collapsed": true,
        "id": "okE9hDMP3mWd",
        "outputId": "23ce5756-dcfc-4577-bb28-b7f0ead125ac"
      },
      "outputs": [
        {
          "name": "stdout",
          "output_type": "stream",
          "text": [
            "Requirement already satisfied: requests in /usr/local/lib/python3.11/dist-packages (2.32.3)\n",
            "Requirement already satisfied: beautifulsoup4 in /usr/local/lib/python3.11/dist-packages (4.13.3)\n",
            "Requirement already satisfied: pandas in /usr/local/lib/python3.11/dist-packages (2.2.2)\n",
            "Requirement already satisfied: charset-normalizer<4,>=2 in /usr/local/lib/python3.11/dist-packages (from requests) (3.4.1)\n",
            "Requirement already satisfied: idna<4,>=2.5 in /usr/local/lib/python3.11/dist-packages (from requests) (3.10)\n",
            "Requirement already satisfied: urllib3<3,>=1.21.1 in /usr/local/lib/python3.11/dist-packages (from requests) (2.3.0)\n",
            "Requirement already satisfied: certifi>=2017.4.17 in /usr/local/lib/python3.11/dist-packages (from requests) (2025.1.31)\n",
            "Requirement already satisfied: soupsieve>1.2 in /usr/local/lib/python3.11/dist-packages (from beautifulsoup4) (2.6)\n",
            "Requirement already satisfied: typing-extensions>=4.0.0 in /usr/local/lib/python3.11/dist-packages (from beautifulsoup4) (4.12.2)\n",
            "Requirement already satisfied: numpy>=1.23.2 in /usr/local/lib/python3.11/dist-packages (from pandas) (1.26.4)\n",
            "Requirement already satisfied: python-dateutil>=2.8.2 in /usr/local/lib/python3.11/dist-packages (from pandas) (2.8.2)\n",
            "Requirement already satisfied: pytz>=2020.1 in /usr/local/lib/python3.11/dist-packages (from pandas) (2025.1)\n",
            "Requirement already satisfied: tzdata>=2022.7 in /usr/local/lib/python3.11/dist-packages (from pandas) (2025.1)\n",
            "Requirement already satisfied: six>=1.5 in /usr/local/lib/python3.11/dist-packages (from python-dateutil>=2.8.2->pandas) (1.17.0)\n"
          ]
        }
      ],
      "source": [
        "!pip install requests beautifulsoup4 pandas"
      ]
    },
    {
      "cell_type": "code",
      "execution_count": null,
      "metadata": {
        "id": "15VVehZYeq9e"
      },
      "outputs": [],
      "source": [
        "# imports\n",
        "import requests\n",
        "from bs4 import BeautifulSoup\n",
        "import pandas as pd\n",
        "from tqdm import tqdm"
      ]
    },
    {
      "cell_type": "code",
      "execution_count": null,
      "metadata": {
        "id": "0rmItcK43ors"
      },
      "outputs": [],
      "source": [
        "# Yorumları almak için fonksiyon\n",
        "def get_reviews(appid, params={'json':1}):\n",
        "    url = 'https://store.steampowered.com/appreviews/'\n",
        "    response = requests.get(url=url+str(appid), params=params, headers={'User-Agent': 'Mozilla/5.0'})\n",
        "    return response.json()\n",
        "\n",
        "# Belirli bir oyunun app id'sini almak için fonksiyon\n",
        "def get_app_id(game_name):\n",
        "    response = requests.get(url=f'https://store.steampowered.com/search/?term={game_name}&category1=998', headers={'User-Agent': 'Mozilla/5.0'})\n",
        "    soup = BeautifulSoup(response.text, 'html.parser')\n",
        "    app_id = soup.find(class_='search_result_row')['data-ds-appid']\n",
        "    return app_id\n",
        "\n",
        "# Yorumları toplamak için fonksiyon (toplam n yorum)\n",
        "def get_n_reviews(appid, n=100, pbar=None):\n",
        "    reviews = []\n",
        "    cursor = '*'\n",
        "    params = {\n",
        "        'json': 1,\n",
        "        'filter': 'all',\n",
        "        'language': 'english',\n",
        "        'day_range': 9223372036854775807,\n",
        "        'review_type': 'all',\n",
        "        'purchase_type': 'all'\n",
        "    }\n",
        "\n",
        "    while n > 0:\n",
        "        params['cursor'] = cursor\n",
        "        params['num_per_page'] = min(100, n)\n",
        "\n",
        "        response = get_reviews(appid, params)\n",
        "        if response[\"cursor\"] is None:\n",
        "            continue\n",
        "\n",
        "        fetched_reviews = response['reviews']\n",
        "        reviews += fetched_reviews\n",
        "        cursor = response['cursor']\n",
        "\n",
        "        num_fetched = len(fetched_reviews)\n",
        "        n -= num_fetched\n",
        "\n",
        "        if pbar:\n",
        "            pbar.update(num_fetched)  # Genel ilerleme çubuğunu güncelle\n",
        "\n",
        "        if n <= 0:\n",
        "            break\n",
        "\n",
        "    return reviews\n",
        "\n",
        "# Yorumları bir oyun için alıp bir DataFrame'e kaydetme\n",
        "def get_game_reviews(game_name, n_reviews=100):\n",
        "    # Oyun ID'sini al\n",
        "    appid = get_app_id(game_name)\n",
        "\n",
        "    # Yorumları çek\n",
        "    reviews = get_n_reviews(appid, n=n_reviews)\n",
        "\n",
        "    # Yorum verilerini bir DataFrame'e dönüştür\n",
        "    df = pd.DataFrame(reviews)\n",
        "\n",
        "    # Yalnızca gerekli sütunları seç\n",
        "    df = df[['review', 'voted_up']].rename(columns={'review': 'comment', 'voted_up': 'positive'})\n",
        "\n",
        "    # Olumlu/Olumsuz yorumları 1 ve 0'a dönüştür\n",
        "    # df['positive'] = df['positive'].astype(int)\n",
        "\n",
        "    return df"
      ]
    },
    {
      "cell_type": "code",
      "execution_count": null,
      "metadata": {
        "id": "bcKIOIX5GB_G"
      },
      "outputs": [],
      "source": [
        "def get_games_reviews(game_names, n_reviews=100):\n",
        "    all_reviews = []\n",
        "    total_reviews = len(game_names) * n_reviews  # Toplam yorum sayısını hesapla\n",
        "\n",
        "    with tqdm(total=total_reviews, desc=\"Fetching all reviews\", unit=\"review\") as pbar:\n",
        "        for game_name in game_names:\n",
        "            # Oyun ID'sini al\n",
        "            appid = get_app_id(game_name)\n",
        "\n",
        "            # Yorumları çek (progress bar referansını geçiriyoruz)\n",
        "            reviews = get_n_reviews(appid, n=n_reviews, pbar=pbar)\n",
        "\n",
        "            # DataFrame oluştur\n",
        "            df = pd.DataFrame(reviews)\n",
        "\n",
        "            # Gerekli sütunları seç ve yeniden adlandır\n",
        "            df = df[['review', 'voted_up']].rename(columns={'review': 'comment', 'voted_up': 'positive'})\n",
        "\n",
        "            # Oyun adını ekle\n",
        "            df['game'] = game_name\n",
        "\n",
        "            # Listeye ekle\n",
        "            all_reviews.append(df)\n",
        "\n",
        "    # Tüm oyun yorumlarını tek bir DataFrame'de birleştir\n",
        "    final_df = pd.concat(all_reviews, ignore_index=True)\n",
        "\n",
        "    return final_df"
      ]
    },
    {
      "cell_type": "code",
      "execution_count": null,
      "metadata": {
        "colab": {
          "base_uri": "https://localhost:8080/"
        },
        "id": "6CNrMLhBHTXa",
        "outputId": "dfc9eb82-8ad2-499a-b513-ba66d8fd7fa5"
      },
      "outputs": [
        {
          "name": "stderr",
          "output_type": "stream",
          "text": [
            "Fetching all reviews: 100%|██████████| 100000/100000 [04:33<00:00, 365.42review/s]\n"
          ]
        }
      ],
      "source": [
        "game_names = (\"Cyberpunk 2077\", \"Halo Infinite\", \"Counter-Strike 2\", \"Dead Cells\", \"The Elder Scrolls V: Skyrim Special Edition\", \"Forza Horizon 5\",\"Cuphead\",\"Undertale\",\"Elden Ring\",\"Baldurs Gate 3\")\n",
        "comments = get_games_reviews(game_names, 10000)"
      ]
    },
    {
      "cell_type": "code",
      "execution_count": null,
      "metadata": {
        "colab": {
          "base_uri": "https://localhost:8080/"
        },
        "id": "oXtNJSt3h2-e",
        "outputId": "37a992f1-edf9-4fe1-b5be-6741339bfa24"
      },
      "outputs": [
        {
          "name": "stdout",
          "output_type": "stream",
          "text": [
            "Tekrar eden yorum sayısı: 267\n",
            "                                               comment  positive  \\\n",
            "0    \"Games as a Service\" model needs to die. Perma...     False   \n",
            "1    ---{ Graphics }---\\n☐ You forget what reality ...      True   \n",
            "2    ---{ Graphics }---\\n☐ You forget what reality ...      True   \n",
            "3    ---{ Graphics }---\\n☑ You forget what reality ...      True   \n",
            "4    ---{ Graphics }---\\r\\n☐ You forget what realit...      True   \n",
            "..                                                 ...       ...   \n",
            "110  if I could, I'd remove this game from my mind ...      True   \n",
            "111  terrible anti cheat people are getting false b...     False   \n",
            "112  valarante child game.... look to cartoon grapf...      True   \n",
            "113  valarante child game.... look to cartoon grapf...      True   \n",
            "114                    𝘎𝘳𝘦𝘢𝘵 𝘨𝘢𝘮𝘦, 𝘳𝘶𝘪𝘯𝘦𝘥 𝘣𝘺 𝘤𝘩𝘦𝘢𝘵𝘦𝘳𝘴.      True   \n",
            "\n",
            "                                            game  count  \n",
            "0                                  Halo Infinite      2  \n",
            "1    The Elder Scrolls V: Skyrim Special Edition      2  \n",
            "2                                     Dead Cells      2  \n",
            "3                                Forza Horizon 5      2  \n",
            "4                                     Elden Ring      2  \n",
            "..                                           ...    ...  \n",
            "110                                    Undertale      2  \n",
            "111                             Counter-Strike 2      2  \n",
            "112                             Counter-Strike 2      2  \n",
            "113                             Counter-Strike 2      4  \n",
            "114                             Counter-Strike 2      5  \n",
            "\n",
            "[115 rows x 4 columns]\n"
          ]
        }
      ],
      "source": [
        "num_duplicates = comments.duplicated(keep=False).sum()\n",
        "print(f\"Tekrar eden yorum sayısı: {num_duplicates}\")\n",
        "\n",
        "duplicate_counts = comments[comments.duplicated(keep=False)].groupby(comments.columns.tolist()).size().reset_index(name='count')\n",
        "print(duplicate_counts)"
      ]
    },
    {
      "cell_type": "code",
      "execution_count": null,
      "metadata": {
        "id": "qp5qPnwvj4iv"
      },
      "outputs": [],
      "source": [
        "comments.drop_duplicates(keep=\"first\", inplace=True)"
      ]
    },
    {
      "cell_type": "code",
      "execution_count": null,
      "metadata": {
        "colab": {
          "base_uri": "https://localhost:8080/"
        },
        "id": "0rAN7DSOkcpV",
        "outputId": "92b8c3b9-27e4-42ea-e436-35a311f4c758"
      },
      "outputs": [
        {
          "data": {
            "text/plain": [
              "(99848, 3)"
            ]
          },
          "execution_count": 149,
          "metadata": {},
          "output_type": "execute_result"
        }
      ],
      "source": [
        "comments.shape"
      ]
    },
    {
      "cell_type": "code",
      "execution_count": null,
      "metadata": {
        "colab": {
          "base_uri": "https://localhost:8080/",
          "height": 424
        },
        "id": "8mq5JiVhk6YH",
        "outputId": "a0fb92a4-696e-48b8-83b9-4e14c9edab34"
      },
      "outputs": [
        {
          "data": {
            "application/vnd.google.colaboratory.intrinsic+json": {
              "summary": "{\n  \"name\": \"comments\",\n  \"rows\": 99848,\n  \"fields\": [\n    {\n      \"column\": \"comment\",\n      \"properties\": {\n        \"dtype\": \"string\",\n        \"num_unique_values\": 99819,\n        \"samples\": [\n          \"I cannot stress enough how much I love this game.During the Covid Pandemic, this was my go-to game. Now that I have finished its DLC (and 100% completed it for the SECOND time), I actually will get wordy with this one:\\n\\n\\nCuphead is a platformer game paying homage to 1930's cartoon drawing style and swing/jazz ensemble music. The atmosphere of the game absorbs you moments after beginning, transporting you back to the Popeye/Steamboat Willie era of moving art. The story is charming and easy to follow, and the protagonists/bosses feel unique and alive with their meticulously hand drawn movements backed by watercolor backgrounds. Although the style and score of the game are entrancing, Cuphead certainly gives you a sucker punch in the jaw if you get too distracted and do not respect its difficulty. It's the hardest platformer I've ever played. That being said, I love the Souls franchise, and any other games difficult enough to compare, so I love Cuphead for its difficulty, although at times rather frustrating. When you beat the game, you feel accomplished, and there is always room for replay-ability and re-challenging yourself. My only complaint is that I haven't had the chance to play co-op yet, which I would love to do. Needless to say, this game changed my outlook on video games and what games can be for people. \\n\\nCuphead is art in its purest form, and its some of the most fun you can have with a 2D platformer game. It has a very special place in my heart, and I believe everyone should give the game a try, its certainly worth it !\\n\\nThank you Studio MDHR!\",\n          \"Aztec.\\n\\n\\n\\nUPDATE: 22.11.2018\\nno Aztec.\\n\\nUPDATE: 07.12.2018\\nno Aztec.\\n\\nUPDATE: 01.04.2019\\nno Aztec.\\n\\nUPDATE: 10.10.2019\\nno Aztec.\\n\\nUPDATE: 02.09.2023\\nno Aztec.\",\n          \"Don't judge a book by it's cover. The screenshots and seemingly-generic concept may deter you, but hidden underneath is one of the most hilarious and emotionally powerful games I've ever played. I rarely engage in the storylines of games, but this game left such an impact on me that I couldn't stop thinking about it for days.\\n\\nBut keep in mind, this is not a perfect game as many say it is. It does not deserve its place at the top of Metacritic's rankings. It does, however, deserve your attention. It is one of the most intelligent videogames I've ever played and is thoroughly engaging from start to finish. I cannot recommend it enough.\"\n        ],\n        \"semantic_type\": \"\",\n        \"description\": \"\"\n      }\n    },\n    {\n      \"column\": \"positive\",\n      \"properties\": {\n        \"dtype\": \"boolean\",\n        \"num_unique_values\": 2,\n        \"samples\": [\n          false,\n          true\n        ],\n        \"semantic_type\": \"\",\n        \"description\": \"\"\n      }\n    },\n    {\n      \"column\": \"game\",\n      \"properties\": {\n        \"dtype\": \"category\",\n        \"num_unique_values\": 10,\n        \"samples\": [\n          \"Elden Ring\",\n          \"Halo Infinite\"\n        ],\n        \"semantic_type\": \"\",\n        \"description\": \"\"\n      }\n    }\n  ]\n}",
              "type": "dataframe",
              "variable_name": "comments"
            },
            "text/html": [
              "\n",
              "  <div id=\"df-c6b026b3-5745-4543-a8a5-35f30b9a08fd\" class=\"colab-df-container\">\n",
              "    <div>\n",
              "<style scoped>\n",
              "    .dataframe tbody tr th:only-of-type {\n",
              "        vertical-align: middle;\n",
              "    }\n",
              "\n",
              "    .dataframe tbody tr th {\n",
              "        vertical-align: top;\n",
              "    }\n",
              "\n",
              "    .dataframe thead th {\n",
              "        text-align: right;\n",
              "    }\n",
              "</style>\n",
              "<table border=\"1\" class=\"dataframe\">\n",
              "  <thead>\n",
              "    <tr style=\"text-align: right;\">\n",
              "      <th></th>\n",
              "      <th>comment</th>\n",
              "      <th>positive</th>\n",
              "      <th>game</th>\n",
              "    </tr>\n",
              "  </thead>\n",
              "  <tbody>\n",
              "    <tr>\n",
              "      <th>0</th>\n",
              "      <td>[h1] For me this is the end of the Night City ...</td>\n",
              "      <td>True</td>\n",
              "      <td>Cyberpunk 2077</td>\n",
              "    </tr>\n",
              "    <tr>\n",
              "      <th>1</th>\n",
              "      <td>Cyberpunk 2077 is a science fiction role playi...</td>\n",
              "      <td>True</td>\n",
              "      <td>Cyberpunk 2077</td>\n",
              "    </tr>\n",
              "    <tr>\n",
              "      <th>2</th>\n",
              "      <td>This game has done so much for me, but thats p...</td>\n",
              "      <td>True</td>\n",
              "      <td>Cyberpunk 2077</td>\n",
              "    </tr>\n",
              "    <tr>\n",
              "      <th>3</th>\n",
              "      <td>Probably my favorite game ever, Cyberpunk is a...</td>\n",
              "      <td>True</td>\n",
              "      <td>Cyberpunk 2077</td>\n",
              "    </tr>\n",
              "    <tr>\n",
              "      <th>4</th>\n",
              "      <td>Patch 1.5 made the game what it should have be...</td>\n",
              "      <td>True</td>\n",
              "      <td>Cyberpunk 2077</td>\n",
              "    </tr>\n",
              "    <tr>\n",
              "      <th>...</th>\n",
              "      <td>...</td>\n",
              "      <td>...</td>\n",
              "      <td>...</td>\n",
              "    </tr>\n",
              "    <tr>\n",
              "      <th>99995</th>\n",
              "      <td>Best rpg in recent years. Exceptionally polish...</td>\n",
              "      <td>True</td>\n",
              "      <td>Baldurs Gate 3</td>\n",
              "    </tr>\n",
              "    <tr>\n",
              "      <th>99996</th>\n",
              "      <td>Its a great story game with impactful choices....</td>\n",
              "      <td>True</td>\n",
              "      <td>Baldurs Gate 3</td>\n",
              "    </tr>\n",
              "    <tr>\n",
              "      <th>99997</th>\n",
              "      <td>Already in Love with this title. Absolutely on...</td>\n",
              "      <td>True</td>\n",
              "      <td>Baldurs Gate 3</td>\n",
              "    </tr>\n",
              "    <tr>\n",
              "      <th>99998</th>\n",
              "      <td>Incredible game, and very friendly to non-D&amp;D ...</td>\n",
              "      <td>True</td>\n",
              "      <td>Baldurs Gate 3</td>\n",
              "    </tr>\n",
              "    <tr>\n",
              "      <th>99999</th>\n",
              "      <td>Game of the year, who says otherwise didn't ev...</td>\n",
              "      <td>True</td>\n",
              "      <td>Baldurs Gate 3</td>\n",
              "    </tr>\n",
              "  </tbody>\n",
              "</table>\n",
              "<p>99848 rows × 3 columns</p>\n",
              "</div>\n",
              "    <div class=\"colab-df-buttons\">\n",
              "\n",
              "  <div class=\"colab-df-container\">\n",
              "    <button class=\"colab-df-convert\" onclick=\"convertToInteractive('df-c6b026b3-5745-4543-a8a5-35f30b9a08fd')\"\n",
              "            title=\"Convert this dataframe to an interactive table.\"\n",
              "            style=\"display:none;\">\n",
              "\n",
              "  <svg xmlns=\"http://www.w3.org/2000/svg\" height=\"24px\" viewBox=\"0 -960 960 960\">\n",
              "    <path d=\"M120-120v-720h720v720H120Zm60-500h600v-160H180v160Zm220 220h160v-160H400v160Zm0 220h160v-160H400v160ZM180-400h160v-160H180v160Zm440 0h160v-160H620v160ZM180-180h160v-160H180v160Zm440 0h160v-160H620v160Z\"/>\n",
              "  </svg>\n",
              "    </button>\n",
              "\n",
              "  <style>\n",
              "    .colab-df-container {\n",
              "      display:flex;\n",
              "      gap: 12px;\n",
              "    }\n",
              "\n",
              "    .colab-df-convert {\n",
              "      background-color: #E8F0FE;\n",
              "      border: none;\n",
              "      border-radius: 50%;\n",
              "      cursor: pointer;\n",
              "      display: none;\n",
              "      fill: #1967D2;\n",
              "      height: 32px;\n",
              "      padding: 0 0 0 0;\n",
              "      width: 32px;\n",
              "    }\n",
              "\n",
              "    .colab-df-convert:hover {\n",
              "      background-color: #E2EBFA;\n",
              "      box-shadow: 0px 1px 2px rgba(60, 64, 67, 0.3), 0px 1px 3px 1px rgba(60, 64, 67, 0.15);\n",
              "      fill: #174EA6;\n",
              "    }\n",
              "\n",
              "    .colab-df-buttons div {\n",
              "      margin-bottom: 4px;\n",
              "    }\n",
              "\n",
              "    [theme=dark] .colab-df-convert {\n",
              "      background-color: #3B4455;\n",
              "      fill: #D2E3FC;\n",
              "    }\n",
              "\n",
              "    [theme=dark] .colab-df-convert:hover {\n",
              "      background-color: #434B5C;\n",
              "      box-shadow: 0px 1px 3px 1px rgba(0, 0, 0, 0.15);\n",
              "      filter: drop-shadow(0px 1px 2px rgba(0, 0, 0, 0.3));\n",
              "      fill: #FFFFFF;\n",
              "    }\n",
              "  </style>\n",
              "\n",
              "    <script>\n",
              "      const buttonEl =\n",
              "        document.querySelector('#df-c6b026b3-5745-4543-a8a5-35f30b9a08fd button.colab-df-convert');\n",
              "      buttonEl.style.display =\n",
              "        google.colab.kernel.accessAllowed ? 'block' : 'none';\n",
              "\n",
              "      async function convertToInteractive(key) {\n",
              "        const element = document.querySelector('#df-c6b026b3-5745-4543-a8a5-35f30b9a08fd');\n",
              "        const dataTable =\n",
              "          await google.colab.kernel.invokeFunction('convertToInteractive',\n",
              "                                                    [key], {});\n",
              "        if (!dataTable) return;\n",
              "\n",
              "        const docLinkHtml = 'Like what you see? Visit the ' +\n",
              "          '<a target=\"_blank\" href=https://colab.research.google.com/notebooks/data_table.ipynb>data table notebook</a>'\n",
              "          + ' to learn more about interactive tables.';\n",
              "        element.innerHTML = '';\n",
              "        dataTable['output_type'] = 'display_data';\n",
              "        await google.colab.output.renderOutput(dataTable, element);\n",
              "        const docLink = document.createElement('div');\n",
              "        docLink.innerHTML = docLinkHtml;\n",
              "        element.appendChild(docLink);\n",
              "      }\n",
              "    </script>\n",
              "  </div>\n",
              "\n",
              "\n",
              "<div id=\"df-e4c9e1f6-a374-4265-973d-2e547a7c8710\">\n",
              "  <button class=\"colab-df-quickchart\" onclick=\"quickchart('df-e4c9e1f6-a374-4265-973d-2e547a7c8710')\"\n",
              "            title=\"Suggest charts\"\n",
              "            style=\"display:none;\">\n",
              "\n",
              "<svg xmlns=\"http://www.w3.org/2000/svg\" height=\"24px\"viewBox=\"0 0 24 24\"\n",
              "     width=\"24px\">\n",
              "    <g>\n",
              "        <path d=\"M19 3H5c-1.1 0-2 .9-2 2v14c0 1.1.9 2 2 2h14c1.1 0 2-.9 2-2V5c0-1.1-.9-2-2-2zM9 17H7v-7h2v7zm4 0h-2V7h2v10zm4 0h-2v-4h2v4z\"/>\n",
              "    </g>\n",
              "</svg>\n",
              "  </button>\n",
              "\n",
              "<style>\n",
              "  .colab-df-quickchart {\n",
              "      --bg-color: #E8F0FE;\n",
              "      --fill-color: #1967D2;\n",
              "      --hover-bg-color: #E2EBFA;\n",
              "      --hover-fill-color: #174EA6;\n",
              "      --disabled-fill-color: #AAA;\n",
              "      --disabled-bg-color: #DDD;\n",
              "  }\n",
              "\n",
              "  [theme=dark] .colab-df-quickchart {\n",
              "      --bg-color: #3B4455;\n",
              "      --fill-color: #D2E3FC;\n",
              "      --hover-bg-color: #434B5C;\n",
              "      --hover-fill-color: #FFFFFF;\n",
              "      --disabled-bg-color: #3B4455;\n",
              "      --disabled-fill-color: #666;\n",
              "  }\n",
              "\n",
              "  .colab-df-quickchart {\n",
              "    background-color: var(--bg-color);\n",
              "    border: none;\n",
              "    border-radius: 50%;\n",
              "    cursor: pointer;\n",
              "    display: none;\n",
              "    fill: var(--fill-color);\n",
              "    height: 32px;\n",
              "    padding: 0;\n",
              "    width: 32px;\n",
              "  }\n",
              "\n",
              "  .colab-df-quickchart:hover {\n",
              "    background-color: var(--hover-bg-color);\n",
              "    box-shadow: 0 1px 2px rgba(60, 64, 67, 0.3), 0 1px 3px 1px rgba(60, 64, 67, 0.15);\n",
              "    fill: var(--button-hover-fill-color);\n",
              "  }\n",
              "\n",
              "  .colab-df-quickchart-complete:disabled,\n",
              "  .colab-df-quickchart-complete:disabled:hover {\n",
              "    background-color: var(--disabled-bg-color);\n",
              "    fill: var(--disabled-fill-color);\n",
              "    box-shadow: none;\n",
              "  }\n",
              "\n",
              "  .colab-df-spinner {\n",
              "    border: 2px solid var(--fill-color);\n",
              "    border-color: transparent;\n",
              "    border-bottom-color: var(--fill-color);\n",
              "    animation:\n",
              "      spin 1s steps(1) infinite;\n",
              "  }\n",
              "\n",
              "  @keyframes spin {\n",
              "    0% {\n",
              "      border-color: transparent;\n",
              "      border-bottom-color: var(--fill-color);\n",
              "      border-left-color: var(--fill-color);\n",
              "    }\n",
              "    20% {\n",
              "      border-color: transparent;\n",
              "      border-left-color: var(--fill-color);\n",
              "      border-top-color: var(--fill-color);\n",
              "    }\n",
              "    30% {\n",
              "      border-color: transparent;\n",
              "      border-left-color: var(--fill-color);\n",
              "      border-top-color: var(--fill-color);\n",
              "      border-right-color: var(--fill-color);\n",
              "    }\n",
              "    40% {\n",
              "      border-color: transparent;\n",
              "      border-right-color: var(--fill-color);\n",
              "      border-top-color: var(--fill-color);\n",
              "    }\n",
              "    60% {\n",
              "      border-color: transparent;\n",
              "      border-right-color: var(--fill-color);\n",
              "    }\n",
              "    80% {\n",
              "      border-color: transparent;\n",
              "      border-right-color: var(--fill-color);\n",
              "      border-bottom-color: var(--fill-color);\n",
              "    }\n",
              "    90% {\n",
              "      border-color: transparent;\n",
              "      border-bottom-color: var(--fill-color);\n",
              "    }\n",
              "  }\n",
              "</style>\n",
              "\n",
              "  <script>\n",
              "    async function quickchart(key) {\n",
              "      const quickchartButtonEl =\n",
              "        document.querySelector('#' + key + ' button');\n",
              "      quickchartButtonEl.disabled = true;  // To prevent multiple clicks.\n",
              "      quickchartButtonEl.classList.add('colab-df-spinner');\n",
              "      try {\n",
              "        const charts = await google.colab.kernel.invokeFunction(\n",
              "            'suggestCharts', [key], {});\n",
              "      } catch (error) {\n",
              "        console.error('Error during call to suggestCharts:', error);\n",
              "      }\n",
              "      quickchartButtonEl.classList.remove('colab-df-spinner');\n",
              "      quickchartButtonEl.classList.add('colab-df-quickchart-complete');\n",
              "    }\n",
              "    (() => {\n",
              "      let quickchartButtonEl =\n",
              "        document.querySelector('#df-e4c9e1f6-a374-4265-973d-2e547a7c8710 button');\n",
              "      quickchartButtonEl.style.display =\n",
              "        google.colab.kernel.accessAllowed ? 'block' : 'none';\n",
              "    })();\n",
              "  </script>\n",
              "</div>\n",
              "\n",
              "  <div id=\"id_024325c2-0d0f-4a6a-ade8-2fcc8edc8934\">\n",
              "    <style>\n",
              "      .colab-df-generate {\n",
              "        background-color: #E8F0FE;\n",
              "        border: none;\n",
              "        border-radius: 50%;\n",
              "        cursor: pointer;\n",
              "        display: none;\n",
              "        fill: #1967D2;\n",
              "        height: 32px;\n",
              "        padding: 0 0 0 0;\n",
              "        width: 32px;\n",
              "      }\n",
              "\n",
              "      .colab-df-generate:hover {\n",
              "        background-color: #E2EBFA;\n",
              "        box-shadow: 0px 1px 2px rgba(60, 64, 67, 0.3), 0px 1px 3px 1px rgba(60, 64, 67, 0.15);\n",
              "        fill: #174EA6;\n",
              "      }\n",
              "\n",
              "      [theme=dark] .colab-df-generate {\n",
              "        background-color: #3B4455;\n",
              "        fill: #D2E3FC;\n",
              "      }\n",
              "\n",
              "      [theme=dark] .colab-df-generate:hover {\n",
              "        background-color: #434B5C;\n",
              "        box-shadow: 0px 1px 3px 1px rgba(0, 0, 0, 0.15);\n",
              "        filter: drop-shadow(0px 1px 2px rgba(0, 0, 0, 0.3));\n",
              "        fill: #FFFFFF;\n",
              "      }\n",
              "    </style>\n",
              "    <button class=\"colab-df-generate\" onclick=\"generateWithVariable('comments')\"\n",
              "            title=\"Generate code using this dataframe.\"\n",
              "            style=\"display:none;\">\n",
              "\n",
              "  <svg xmlns=\"http://www.w3.org/2000/svg\" height=\"24px\"viewBox=\"0 0 24 24\"\n",
              "       width=\"24px\">\n",
              "    <path d=\"M7,19H8.4L18.45,9,17,7.55,7,17.6ZM5,21V16.75L18.45,3.32a2,2,0,0,1,2.83,0l1.4,1.43a1.91,1.91,0,0,1,.58,1.4,1.91,1.91,0,0,1-.58,1.4L9.25,21ZM18.45,9,17,7.55Zm-12,3A5.31,5.31,0,0,0,4.9,8.1,5.31,5.31,0,0,0,1,6.5,5.31,5.31,0,0,0,4.9,4.9,5.31,5.31,0,0,0,6.5,1,5.31,5.31,0,0,0,8.1,4.9,5.31,5.31,0,0,0,12,6.5,5.46,5.46,0,0,0,6.5,12Z\"/>\n",
              "  </svg>\n",
              "    </button>\n",
              "    <script>\n",
              "      (() => {\n",
              "      const buttonEl =\n",
              "        document.querySelector('#id_024325c2-0d0f-4a6a-ade8-2fcc8edc8934 button.colab-df-generate');\n",
              "      buttonEl.style.display =\n",
              "        google.colab.kernel.accessAllowed ? 'block' : 'none';\n",
              "\n",
              "      buttonEl.onclick = () => {\n",
              "        google.colab.notebook.generateWithVariable('comments');\n",
              "      }\n",
              "      })();\n",
              "    </script>\n",
              "  </div>\n",
              "\n",
              "    </div>\n",
              "  </div>\n"
            ],
            "text/plain": [
              "                                                 comment  positive  \\\n",
              "0      [h1] For me this is the end of the Night City ...      True   \n",
              "1      Cyberpunk 2077 is a science fiction role playi...      True   \n",
              "2      This game has done so much for me, but thats p...      True   \n",
              "3      Probably my favorite game ever, Cyberpunk is a...      True   \n",
              "4      Patch 1.5 made the game what it should have be...      True   \n",
              "...                                                  ...       ...   \n",
              "99995  Best rpg in recent years. Exceptionally polish...      True   \n",
              "99996  Its a great story game with impactful choices....      True   \n",
              "99997  Already in Love with this title. Absolutely on...      True   \n",
              "99998  Incredible game, and very friendly to non-D&D ...      True   \n",
              "99999  Game of the year, who says otherwise didn't ev...      True   \n",
              "\n",
              "                 game  \n",
              "0      Cyberpunk 2077  \n",
              "1      Cyberpunk 2077  \n",
              "2      Cyberpunk 2077  \n",
              "3      Cyberpunk 2077  \n",
              "4      Cyberpunk 2077  \n",
              "...               ...  \n",
              "99995  Baldurs Gate 3  \n",
              "99996  Baldurs Gate 3  \n",
              "99997  Baldurs Gate 3  \n",
              "99998  Baldurs Gate 3  \n",
              "99999  Baldurs Gate 3  \n",
              "\n",
              "[99848 rows x 3 columns]"
            ]
          },
          "execution_count": 152,
          "metadata": {},
          "output_type": "execute_result"
        }
      ],
      "source": [
        "comments"
      ]
    },
    {
      "cell_type": "code",
      "execution_count": null,
      "metadata": {
        "colab": {
          "base_uri": "https://localhost:8080/",
          "height": 429
        },
        "id": "pESg17AMTMiI",
        "outputId": "c45eb5d8-3d5e-43be-82f8-2b7da82a3336"
      },
      "outputs": [
        {
          "data": {
            "text/html": [
              "<div>\n",
              "<style scoped>\n",
              "    .dataframe tbody tr th:only-of-type {\n",
              "        vertical-align: middle;\n",
              "    }\n",
              "\n",
              "    .dataframe tbody tr th {\n",
              "        vertical-align: top;\n",
              "    }\n",
              "\n",
              "    .dataframe thead th {\n",
              "        text-align: right;\n",
              "    }\n",
              "</style>\n",
              "<table border=\"1\" class=\"dataframe\">\n",
              "  <thead>\n",
              "    <tr style=\"text-align: right;\">\n",
              "      <th></th>\n",
              "      <th>count</th>\n",
              "    </tr>\n",
              "    <tr>\n",
              "      <th>game</th>\n",
              "      <th></th>\n",
              "    </tr>\n",
              "  </thead>\n",
              "  <tbody>\n",
              "    <tr>\n",
              "      <th>Halo Infinite</th>\n",
              "      <td>9998</td>\n",
              "    </tr>\n",
              "    <tr>\n",
              "      <th>Dead Cells</th>\n",
              "      <td>9996</td>\n",
              "    </tr>\n",
              "    <tr>\n",
              "      <th>Baldurs Gate 3</th>\n",
              "      <td>9996</td>\n",
              "    </tr>\n",
              "    <tr>\n",
              "      <th>Cyberpunk 2077</th>\n",
              "      <td>9994</td>\n",
              "    </tr>\n",
              "    <tr>\n",
              "      <th>Undertale</th>\n",
              "      <td>9992</td>\n",
              "    </tr>\n",
              "    <tr>\n",
              "      <th>The Elder Scrolls V: Skyrim Special Edition</th>\n",
              "      <td>9991</td>\n",
              "    </tr>\n",
              "    <tr>\n",
              "      <th>Cuphead</th>\n",
              "      <td>9991</td>\n",
              "    </tr>\n",
              "    <tr>\n",
              "      <th>Elden Ring</th>\n",
              "      <td>9991</td>\n",
              "    </tr>\n",
              "    <tr>\n",
              "      <th>Forza Horizon 5</th>\n",
              "      <td>9987</td>\n",
              "    </tr>\n",
              "    <tr>\n",
              "      <th>Counter-Strike 2</th>\n",
              "      <td>9912</td>\n",
              "    </tr>\n",
              "  </tbody>\n",
              "</table>\n",
              "</div><br><label><b>dtype:</b> int64</label>"
            ],
            "text/plain": [
              "game\n",
              "Halo Infinite                                  9998\n",
              "Dead Cells                                     9996\n",
              "Baldurs Gate 3                                 9996\n",
              "Cyberpunk 2077                                 9994\n",
              "Undertale                                      9992\n",
              "The Elder Scrolls V: Skyrim Special Edition    9991\n",
              "Cuphead                                        9991\n",
              "Elden Ring                                     9991\n",
              "Forza Horizon 5                                9987\n",
              "Counter-Strike 2                               9912\n",
              "Name: count, dtype: int64"
            ]
          },
          "execution_count": 153,
          "metadata": {},
          "output_type": "execute_result"
        }
      ],
      "source": [
        "comments[\"game\"].value_counts()"
      ]
    },
    {
      "cell_type": "code",
      "execution_count": null,
      "metadata": {
        "colab": {
          "base_uri": "https://localhost:8080/",
          "height": 178
        },
        "id": "xWqIh9HylYPF",
        "outputId": "30ef11b9-ae09-4405-aa81-48f4398623f0"
      },
      "outputs": [
        {
          "data": {
            "text/html": [
              "<div>\n",
              "<style scoped>\n",
              "    .dataframe tbody tr th:only-of-type {\n",
              "        vertical-align: middle;\n",
              "    }\n",
              "\n",
              "    .dataframe tbody tr th {\n",
              "        vertical-align: top;\n",
              "    }\n",
              "\n",
              "    .dataframe thead th {\n",
              "        text-align: right;\n",
              "    }\n",
              "</style>\n",
              "<table border=\"1\" class=\"dataframe\">\n",
              "  <thead>\n",
              "    <tr style=\"text-align: right;\">\n",
              "      <th></th>\n",
              "      <th>count</th>\n",
              "    </tr>\n",
              "    <tr>\n",
              "      <th>positive</th>\n",
              "      <th></th>\n",
              "    </tr>\n",
              "  </thead>\n",
              "  <tbody>\n",
              "    <tr>\n",
              "      <th>True</th>\n",
              "      <td>80417</td>\n",
              "    </tr>\n",
              "    <tr>\n",
              "      <th>False</th>\n",
              "      <td>19431</td>\n",
              "    </tr>\n",
              "  </tbody>\n",
              "</table>\n",
              "</div><br><label><b>dtype:</b> int64</label>"
            ],
            "text/plain": [
              "positive\n",
              "True     80417\n",
              "False    19431\n",
              "Name: count, dtype: int64"
            ]
          },
          "execution_count": 155,
          "metadata": {},
          "output_type": "execute_result"
        }
      ],
      "source": [
        "comments[\"positive\"].value_counts()"
      ]
    },
    {
      "cell_type": "code",
      "execution_count": null,
      "metadata": {
        "id": "eNMF09uuhfgm"
      },
      "outputs": [],
      "source": [
        "comments.to_csv(\"steam_reviews.csv\", index=False, encoding=\"utf-8\")"
      ]
    },
    {
      "cell_type": "markdown",
      "metadata": {
        "id": "Tbae2ITyluNn"
      },
      "source": [
        "# NLP"
      ]
    },
    {
      "cell_type": "code",
      "execution_count": null,
      "metadata": {
        "id": "I_2QDcTal3MW"
      },
      "outputs": [],
      "source": [
        "import time\n",
        "import pandas as pd\n",
        "import numpy as np\n",
        "import nltk\n",
        "from nltk.tokenize import word_tokenize\n",
        "from nltk.corpus import stopwords\n",
        "from nltk.stem import PorterStemmer\n",
        "from sklearn.model_selection import StratifiedKFold, cross_validate, cross_val_predict\n",
        "from sklearn.feature_extraction.text import TfidfVectorizer, CountVectorizer\n",
        "from sklearn.feature_selection import SelectKBest, chi2\n",
        "from sklearn.neighbors import KNeighborsClassifier\n",
        "from sklearn.naive_bayes import MultinomialNB, GaussianNB\n",
        "from sklearn.tree import DecisionTreeClassifier\n",
        "from sklearn.metrics import accuracy_score, classification_report, precision_recall_fscore_support, mean_absolute_error, mean_squared_error\n",
        "from sklearn.decomposition import PCA"
      ]
    },
    {
      "cell_type": "code",
      "execution_count": null,
      "metadata": {
        "id": "NFRV6b08lz1d"
      },
      "outputs": [],
      "source": [
        "# Classifierlar\n",
        "knn_classifier = KNeighborsClassifier(n_neighbors=3)\n",
        "bayes_multi_classifier = MultinomialNB()\n",
        "bayes_gauss_classifier = GaussianNB()\n",
        "decision_tree_classifier = DecisionTreeClassifier(random_state=42)"
      ]
    },
    {
      "cell_type": "code",
      "execution_count": null,
      "metadata": {
        "colab": {
          "base_uri": "https://localhost:8080/"
        },
        "id": "33cgR68ll5pX",
        "outputId": "b2d74cc9-3526-477e-f697-e21cc5bfde44"
      },
      "outputs": [
        {
          "name": "stderr",
          "output_type": "stream",
          "text": [
            "[nltk_data] Downloading package punkt to /root/nltk_data...\n",
            "[nltk_data]   Package punkt is already up-to-date!\n",
            "[nltk_data] Downloading package punkt_tab to /root/nltk_data...\n",
            "[nltk_data]   Unzipping tokenizers/punkt_tab.zip.\n",
            "[nltk_data] Downloading package stopwords to /root/nltk_data...\n",
            "[nltk_data]   Package stopwords is already up-to-date!\n"
          ]
        },
        {
          "data": {
            "text/plain": [
              "True"
            ]
          },
          "execution_count": 161,
          "metadata": {},
          "output_type": "execute_result"
        }
      ],
      "source": [
        "nltk.download('punkt')\n",
        "nltk.download('punkt_tab')\n",
        "nltk.download('stopwords')"
      ]
    },
    {
      "cell_type": "code",
      "execution_count": null,
      "metadata": {
        "colab": {
          "base_uri": "https://localhost:8080/",
          "height": 424
        },
        "id": "i_2HKbWSmGdq",
        "outputId": "41718f6a-1d4f-4b31-9f1a-ccecb952d2ab"
      },
      "outputs": [
        {
          "data": {
            "application/vnd.google.colaboratory.intrinsic+json": {
              "summary": "{\n  \"name\": \"comments\",\n  \"rows\": 99848,\n  \"fields\": [\n    {\n      \"column\": \"comment\",\n      \"properties\": {\n        \"dtype\": \"string\",\n        \"num_unique_values\": 99810,\n        \"samples\": [\n          \"incredibly fun game with impressive graphics across the range. a wide variety of cars and customization options allow you to play how you want. would highly recommend forza horizon 5 for anyone looking for a well rounded open world racing game\",\n          \"the game is quite scratchy at the moment, but with each update made by valve... slowly, slowly it gets better.\\nit has a lot of potential maybe bigger than csgo.. but it's very early to talk about it.\\npersonally, i'm enjoying the game even if my pc is a bit outdated.\",\n          \"this is the game of all time.\\n\\nlmao i know but this game is a masterpiece in itself (that's why i have an undertale icon on my steam profile).\\n\\nfun characters, fun story, fun to share with friends and quote with.\\nalso play deltarune once you're done with this. chapter 2's out and it's recommended to play after undertale.\"\n        ],\n        \"semantic_type\": \"\",\n        \"description\": \"\"\n      }\n    },\n    {\n      \"column\": \"positive\",\n      \"properties\": {\n        \"dtype\": \"boolean\",\n        \"num_unique_values\": 2,\n        \"samples\": [\n          false,\n          true\n        ],\n        \"semantic_type\": \"\",\n        \"description\": \"\"\n      }\n    },\n    {\n      \"column\": \"game\",\n      \"properties\": {\n        \"dtype\": \"category\",\n        \"num_unique_values\": 10,\n        \"samples\": [\n          \"Elden Ring\",\n          \"Halo Infinite\"\n        ],\n        \"semantic_type\": \"\",\n        \"description\": \"\"\n      }\n    },\n    {\n      \"column\": \"tokenized_comment\",\n      \"properties\": {\n        \"dtype\": \"object\",\n        \"semantic_type\": \"\",\n        \"description\": \"\"\n      }\n    },\n    {\n      \"column\": \"filtered_comment\",\n      \"properties\": {\n        \"dtype\": \"object\",\n        \"semantic_type\": \"\",\n        \"description\": \"\"\n      }\n    },\n    {\n      \"column\": \"processed_comment\",\n      \"properties\": {\n        \"dtype\": \"object\",\n        \"semantic_type\": \"\",\n        \"description\": \"\"\n      }\n    }\n  ]\n}",
              "type": "dataframe",
              "variable_name": "comments"
            },
            "text/html": [
              "\n",
              "  <div id=\"df-0a0c7f93-d6b8-4fb1-be37-cf3f6480aee9\" class=\"colab-df-container\">\n",
              "    <div>\n",
              "<style scoped>\n",
              "    .dataframe tbody tr th:only-of-type {\n",
              "        vertical-align: middle;\n",
              "    }\n",
              "\n",
              "    .dataframe tbody tr th {\n",
              "        vertical-align: top;\n",
              "    }\n",
              "\n",
              "    .dataframe thead th {\n",
              "        text-align: right;\n",
              "    }\n",
              "</style>\n",
              "<table border=\"1\" class=\"dataframe\">\n",
              "  <thead>\n",
              "    <tr style=\"text-align: right;\">\n",
              "      <th></th>\n",
              "      <th>comment</th>\n",
              "      <th>positive</th>\n",
              "      <th>game</th>\n",
              "      <th>tokenized_comment</th>\n",
              "      <th>filtered_comment</th>\n",
              "      <th>processed_comment</th>\n",
              "    </tr>\n",
              "  </thead>\n",
              "  <tbody>\n",
              "    <tr>\n",
              "      <th>0</th>\n",
              "      <td>[h1] for me this is the end of the night city ...</td>\n",
              "      <td>True</td>\n",
              "      <td>Cyberpunk 2077</td>\n",
              "      <td>[[, h1, ], for, me, this, is, the, end, of, th...</td>\n",
              "      <td>[[, h1, ], end, night, city, story, ., [, /h1,...</td>\n",
              "      <td>[[, h1, ], end, night, citi, stori, ., [, /h1,...</td>\n",
              "    </tr>\n",
              "    <tr>\n",
              "      <th>1</th>\n",
              "      <td>cyberpunk 2077 is a science fiction role playi...</td>\n",
              "      <td>True</td>\n",
              "      <td>Cyberpunk 2077</td>\n",
              "      <td>[cyberpunk, 2077, is, a, science, fiction, rol...</td>\n",
              "      <td>[cyberpunk, 2077, science, fiction, role, play...</td>\n",
              "      <td>[cyberpunk, 2077, scienc, fiction, role, play,...</td>\n",
              "    </tr>\n",
              "    <tr>\n",
              "      <th>2</th>\n",
              "      <td>this game has done so much for me, but thats p...</td>\n",
              "      <td>True</td>\n",
              "      <td>Cyberpunk 2077</td>\n",
              "      <td>[this, game, has, done, so, much, for, me, ,, ...</td>\n",
              "      <td>[game, done, much, ,, thats, personal, bias, ....</td>\n",
              "      <td>[game, done, much, ,, that, person, bia, ., cy...</td>\n",
              "    </tr>\n",
              "    <tr>\n",
              "      <th>3</th>\n",
              "      <td>probably my favorite game ever, cyberpunk is a...</td>\n",
              "      <td>True</td>\n",
              "      <td>Cyberpunk 2077</td>\n",
              "      <td>[probably, my, favorite, game, ever, ,, cyberp...</td>\n",
              "      <td>[probably, favorite, game, ever, ,, cyberpunk,...</td>\n",
              "      <td>[probabl, favorit, game, ever, ,, cyberpunk, g...</td>\n",
              "    </tr>\n",
              "    <tr>\n",
              "      <th>4</th>\n",
              "      <td>patch 1.5 made the game what it should have be...</td>\n",
              "      <td>True</td>\n",
              "      <td>Cyberpunk 2077</td>\n",
              "      <td>[patch, 1.5, made, the, game, what, it, should...</td>\n",
              "      <td>[patch, 1.5, made, game, released, ., 've, don...</td>\n",
              "      <td>[patch, 1.5, made, game, releas, ., 've, done,...</td>\n",
              "    </tr>\n",
              "    <tr>\n",
              "      <th>...</th>\n",
              "      <td>...</td>\n",
              "      <td>...</td>\n",
              "      <td>...</td>\n",
              "      <td>...</td>\n",
              "      <td>...</td>\n",
              "      <td>...</td>\n",
              "    </tr>\n",
              "    <tr>\n",
              "      <th>99995</th>\n",
              "      <td>best rpg in recent years. exceptionally polish...</td>\n",
              "      <td>True</td>\n",
              "      <td>Baldurs Gate 3</td>\n",
              "      <td>[best, rpg, in, recent, years, ., exceptionall...</td>\n",
              "      <td>[best, rpg, recent, years, ., exceptionally, p...</td>\n",
              "      <td>[best, rpg, recent, year, ., except, polish, g...</td>\n",
              "    </tr>\n",
              "    <tr>\n",
              "      <th>99996</th>\n",
              "      <td>its a great story game with impactful choices....</td>\n",
              "      <td>True</td>\n",
              "      <td>Baldurs Gate 3</td>\n",
              "      <td>[its, a, great, story, game, with, impactful, ...</td>\n",
              "      <td>[great, story, game, impactful, choices, ., go...</td>\n",
              "      <td>[great, stori, game, impact, choic, ., good, g...</td>\n",
              "    </tr>\n",
              "    <tr>\n",
              "      <th>99997</th>\n",
              "      <td>already in love with this title. absolutely on...</td>\n",
              "      <td>True</td>\n",
              "      <td>Baldurs Gate 3</td>\n",
              "      <td>[already, in, love, with, this, title, ., abso...</td>\n",
              "      <td>[already, love, title, ., absolutely, one, gre...</td>\n",
              "      <td>[alreadi, love, titl, ., absolut, one, greates...</td>\n",
              "    </tr>\n",
              "    <tr>\n",
              "      <th>99998</th>\n",
              "      <td>incredible game, and very friendly to non-d&amp;d ...</td>\n",
              "      <td>True</td>\n",
              "      <td>Baldurs Gate 3</td>\n",
              "      <td>[incredible, game, ,, and, very, friendly, to,...</td>\n",
              "      <td>[incredible, game, ,, friendly, non-d, &amp;, play...</td>\n",
              "      <td>[incred, game, ,, friendli, non-d, &amp;, player, ...</td>\n",
              "    </tr>\n",
              "    <tr>\n",
              "      <th>99999</th>\n",
              "      <td>game of the year, who says otherwise didn't ev...</td>\n",
              "      <td>True</td>\n",
              "      <td>Baldurs Gate 3</td>\n",
              "      <td>[game, of, the, year, ,, who, says, otherwise,...</td>\n",
              "      <td>[game, year, ,, says, otherwise, n't, even, pl...</td>\n",
              "      <td>[game, year, ,, say, otherwis, n't, even, play...</td>\n",
              "    </tr>\n",
              "  </tbody>\n",
              "</table>\n",
              "<p>99848 rows × 6 columns</p>\n",
              "</div>\n",
              "    <div class=\"colab-df-buttons\">\n",
              "\n",
              "  <div class=\"colab-df-container\">\n",
              "    <button class=\"colab-df-convert\" onclick=\"convertToInteractive('df-0a0c7f93-d6b8-4fb1-be37-cf3f6480aee9')\"\n",
              "            title=\"Convert this dataframe to an interactive table.\"\n",
              "            style=\"display:none;\">\n",
              "\n",
              "  <svg xmlns=\"http://www.w3.org/2000/svg\" height=\"24px\" viewBox=\"0 -960 960 960\">\n",
              "    <path d=\"M120-120v-720h720v720H120Zm60-500h600v-160H180v160Zm220 220h160v-160H400v160Zm0 220h160v-160H400v160ZM180-400h160v-160H180v160Zm440 0h160v-160H620v160ZM180-180h160v-160H180v160Zm440 0h160v-160H620v160Z\"/>\n",
              "  </svg>\n",
              "    </button>\n",
              "\n",
              "  <style>\n",
              "    .colab-df-container {\n",
              "      display:flex;\n",
              "      gap: 12px;\n",
              "    }\n",
              "\n",
              "    .colab-df-convert {\n",
              "      background-color: #E8F0FE;\n",
              "      border: none;\n",
              "      border-radius: 50%;\n",
              "      cursor: pointer;\n",
              "      display: none;\n",
              "      fill: #1967D2;\n",
              "      height: 32px;\n",
              "      padding: 0 0 0 0;\n",
              "      width: 32px;\n",
              "    }\n",
              "\n",
              "    .colab-df-convert:hover {\n",
              "      background-color: #E2EBFA;\n",
              "      box-shadow: 0px 1px 2px rgba(60, 64, 67, 0.3), 0px 1px 3px 1px rgba(60, 64, 67, 0.15);\n",
              "      fill: #174EA6;\n",
              "    }\n",
              "\n",
              "    .colab-df-buttons div {\n",
              "      margin-bottom: 4px;\n",
              "    }\n",
              "\n",
              "    [theme=dark] .colab-df-convert {\n",
              "      background-color: #3B4455;\n",
              "      fill: #D2E3FC;\n",
              "    }\n",
              "\n",
              "    [theme=dark] .colab-df-convert:hover {\n",
              "      background-color: #434B5C;\n",
              "      box-shadow: 0px 1px 3px 1px rgba(0, 0, 0, 0.15);\n",
              "      filter: drop-shadow(0px 1px 2px rgba(0, 0, 0, 0.3));\n",
              "      fill: #FFFFFF;\n",
              "    }\n",
              "  </style>\n",
              "\n",
              "    <script>\n",
              "      const buttonEl =\n",
              "        document.querySelector('#df-0a0c7f93-d6b8-4fb1-be37-cf3f6480aee9 button.colab-df-convert');\n",
              "      buttonEl.style.display =\n",
              "        google.colab.kernel.accessAllowed ? 'block' : 'none';\n",
              "\n",
              "      async function convertToInteractive(key) {\n",
              "        const element = document.querySelector('#df-0a0c7f93-d6b8-4fb1-be37-cf3f6480aee9');\n",
              "        const dataTable =\n",
              "          await google.colab.kernel.invokeFunction('convertToInteractive',\n",
              "                                                    [key], {});\n",
              "        if (!dataTable) return;\n",
              "\n",
              "        const docLinkHtml = 'Like what you see? Visit the ' +\n",
              "          '<a target=\"_blank\" href=https://colab.research.google.com/notebooks/data_table.ipynb>data table notebook</a>'\n",
              "          + ' to learn more about interactive tables.';\n",
              "        element.innerHTML = '';\n",
              "        dataTable['output_type'] = 'display_data';\n",
              "        await google.colab.output.renderOutput(dataTable, element);\n",
              "        const docLink = document.createElement('div');\n",
              "        docLink.innerHTML = docLinkHtml;\n",
              "        element.appendChild(docLink);\n",
              "      }\n",
              "    </script>\n",
              "  </div>\n",
              "\n",
              "\n",
              "<div id=\"df-7ecb4cd7-7327-4c6d-9d20-5e12cde4a526\">\n",
              "  <button class=\"colab-df-quickchart\" onclick=\"quickchart('df-7ecb4cd7-7327-4c6d-9d20-5e12cde4a526')\"\n",
              "            title=\"Suggest charts\"\n",
              "            style=\"display:none;\">\n",
              "\n",
              "<svg xmlns=\"http://www.w3.org/2000/svg\" height=\"24px\"viewBox=\"0 0 24 24\"\n",
              "     width=\"24px\">\n",
              "    <g>\n",
              "        <path d=\"M19 3H5c-1.1 0-2 .9-2 2v14c0 1.1.9 2 2 2h14c1.1 0 2-.9 2-2V5c0-1.1-.9-2-2-2zM9 17H7v-7h2v7zm4 0h-2V7h2v10zm4 0h-2v-4h2v4z\"/>\n",
              "    </g>\n",
              "</svg>\n",
              "  </button>\n",
              "\n",
              "<style>\n",
              "  .colab-df-quickchart {\n",
              "      --bg-color: #E8F0FE;\n",
              "      --fill-color: #1967D2;\n",
              "      --hover-bg-color: #E2EBFA;\n",
              "      --hover-fill-color: #174EA6;\n",
              "      --disabled-fill-color: #AAA;\n",
              "      --disabled-bg-color: #DDD;\n",
              "  }\n",
              "\n",
              "  [theme=dark] .colab-df-quickchart {\n",
              "      --bg-color: #3B4455;\n",
              "      --fill-color: #D2E3FC;\n",
              "      --hover-bg-color: #434B5C;\n",
              "      --hover-fill-color: #FFFFFF;\n",
              "      --disabled-bg-color: #3B4455;\n",
              "      --disabled-fill-color: #666;\n",
              "  }\n",
              "\n",
              "  .colab-df-quickchart {\n",
              "    background-color: var(--bg-color);\n",
              "    border: none;\n",
              "    border-radius: 50%;\n",
              "    cursor: pointer;\n",
              "    display: none;\n",
              "    fill: var(--fill-color);\n",
              "    height: 32px;\n",
              "    padding: 0;\n",
              "    width: 32px;\n",
              "  }\n",
              "\n",
              "  .colab-df-quickchart:hover {\n",
              "    background-color: var(--hover-bg-color);\n",
              "    box-shadow: 0 1px 2px rgba(60, 64, 67, 0.3), 0 1px 3px 1px rgba(60, 64, 67, 0.15);\n",
              "    fill: var(--button-hover-fill-color);\n",
              "  }\n",
              "\n",
              "  .colab-df-quickchart-complete:disabled,\n",
              "  .colab-df-quickchart-complete:disabled:hover {\n",
              "    background-color: var(--disabled-bg-color);\n",
              "    fill: var(--disabled-fill-color);\n",
              "    box-shadow: none;\n",
              "  }\n",
              "\n",
              "  .colab-df-spinner {\n",
              "    border: 2px solid var(--fill-color);\n",
              "    border-color: transparent;\n",
              "    border-bottom-color: var(--fill-color);\n",
              "    animation:\n",
              "      spin 1s steps(1) infinite;\n",
              "  }\n",
              "\n",
              "  @keyframes spin {\n",
              "    0% {\n",
              "      border-color: transparent;\n",
              "      border-bottom-color: var(--fill-color);\n",
              "      border-left-color: var(--fill-color);\n",
              "    }\n",
              "    20% {\n",
              "      border-color: transparent;\n",
              "      border-left-color: var(--fill-color);\n",
              "      border-top-color: var(--fill-color);\n",
              "    }\n",
              "    30% {\n",
              "      border-color: transparent;\n",
              "      border-left-color: var(--fill-color);\n",
              "      border-top-color: var(--fill-color);\n",
              "      border-right-color: var(--fill-color);\n",
              "    }\n",
              "    40% {\n",
              "      border-color: transparent;\n",
              "      border-right-color: var(--fill-color);\n",
              "      border-top-color: var(--fill-color);\n",
              "    }\n",
              "    60% {\n",
              "      border-color: transparent;\n",
              "      border-right-color: var(--fill-color);\n",
              "    }\n",
              "    80% {\n",
              "      border-color: transparent;\n",
              "      border-right-color: var(--fill-color);\n",
              "      border-bottom-color: var(--fill-color);\n",
              "    }\n",
              "    90% {\n",
              "      border-color: transparent;\n",
              "      border-bottom-color: var(--fill-color);\n",
              "    }\n",
              "  }\n",
              "</style>\n",
              "\n",
              "  <script>\n",
              "    async function quickchart(key) {\n",
              "      const quickchartButtonEl =\n",
              "        document.querySelector('#' + key + ' button');\n",
              "      quickchartButtonEl.disabled = true;  // To prevent multiple clicks.\n",
              "      quickchartButtonEl.classList.add('colab-df-spinner');\n",
              "      try {\n",
              "        const charts = await google.colab.kernel.invokeFunction(\n",
              "            'suggestCharts', [key], {});\n",
              "      } catch (error) {\n",
              "        console.error('Error during call to suggestCharts:', error);\n",
              "      }\n",
              "      quickchartButtonEl.classList.remove('colab-df-spinner');\n",
              "      quickchartButtonEl.classList.add('colab-df-quickchart-complete');\n",
              "    }\n",
              "    (() => {\n",
              "      let quickchartButtonEl =\n",
              "        document.querySelector('#df-7ecb4cd7-7327-4c6d-9d20-5e12cde4a526 button');\n",
              "      quickchartButtonEl.style.display =\n",
              "        google.colab.kernel.accessAllowed ? 'block' : 'none';\n",
              "    })();\n",
              "  </script>\n",
              "</div>\n",
              "\n",
              "  <div id=\"id_83498279-3240-427a-81e0-66878f17fe74\">\n",
              "    <style>\n",
              "      .colab-df-generate {\n",
              "        background-color: #E8F0FE;\n",
              "        border: none;\n",
              "        border-radius: 50%;\n",
              "        cursor: pointer;\n",
              "        display: none;\n",
              "        fill: #1967D2;\n",
              "        height: 32px;\n",
              "        padding: 0 0 0 0;\n",
              "        width: 32px;\n",
              "      }\n",
              "\n",
              "      .colab-df-generate:hover {\n",
              "        background-color: #E2EBFA;\n",
              "        box-shadow: 0px 1px 2px rgba(60, 64, 67, 0.3), 0px 1px 3px 1px rgba(60, 64, 67, 0.15);\n",
              "        fill: #174EA6;\n",
              "      }\n",
              "\n",
              "      [theme=dark] .colab-df-generate {\n",
              "        background-color: #3B4455;\n",
              "        fill: #D2E3FC;\n",
              "      }\n",
              "\n",
              "      [theme=dark] .colab-df-generate:hover {\n",
              "        background-color: #434B5C;\n",
              "        box-shadow: 0px 1px 3px 1px rgba(0, 0, 0, 0.15);\n",
              "        filter: drop-shadow(0px 1px 2px rgba(0, 0, 0, 0.3));\n",
              "        fill: #FFFFFF;\n",
              "      }\n",
              "    </style>\n",
              "    <button class=\"colab-df-generate\" onclick=\"generateWithVariable('comments')\"\n",
              "            title=\"Generate code using this dataframe.\"\n",
              "            style=\"display:none;\">\n",
              "\n",
              "  <svg xmlns=\"http://www.w3.org/2000/svg\" height=\"24px\"viewBox=\"0 0 24 24\"\n",
              "       width=\"24px\">\n",
              "    <path d=\"M7,19H8.4L18.45,9,17,7.55,7,17.6ZM5,21V16.75L18.45,3.32a2,2,0,0,1,2.83,0l1.4,1.43a1.91,1.91,0,0,1,.58,1.4,1.91,1.91,0,0,1-.58,1.4L9.25,21ZM18.45,9,17,7.55Zm-12,3A5.31,5.31,0,0,0,4.9,8.1,5.31,5.31,0,0,0,1,6.5,5.31,5.31,0,0,0,4.9,4.9,5.31,5.31,0,0,0,6.5,1,5.31,5.31,0,0,0,8.1,4.9,5.31,5.31,0,0,0,12,6.5,5.46,5.46,0,0,0,6.5,12Z\"/>\n",
              "  </svg>\n",
              "    </button>\n",
              "    <script>\n",
              "      (() => {\n",
              "      const buttonEl =\n",
              "        document.querySelector('#id_83498279-3240-427a-81e0-66878f17fe74 button.colab-df-generate');\n",
              "      buttonEl.style.display =\n",
              "        google.colab.kernel.accessAllowed ? 'block' : 'none';\n",
              "\n",
              "      buttonEl.onclick = () => {\n",
              "        google.colab.notebook.generateWithVariable('comments');\n",
              "      }\n",
              "      })();\n",
              "    </script>\n",
              "  </div>\n",
              "\n",
              "    </div>\n",
              "  </div>\n"
            ],
            "text/plain": [
              "                                                 comment  positive  \\\n",
              "0      [h1] for me this is the end of the night city ...      True   \n",
              "1      cyberpunk 2077 is a science fiction role playi...      True   \n",
              "2      this game has done so much for me, but thats p...      True   \n",
              "3      probably my favorite game ever, cyberpunk is a...      True   \n",
              "4      patch 1.5 made the game what it should have be...      True   \n",
              "...                                                  ...       ...   \n",
              "99995  best rpg in recent years. exceptionally polish...      True   \n",
              "99996  its a great story game with impactful choices....      True   \n",
              "99997  already in love with this title. absolutely on...      True   \n",
              "99998  incredible game, and very friendly to non-d&d ...      True   \n",
              "99999  game of the year, who says otherwise didn't ev...      True   \n",
              "\n",
              "                 game                                  tokenized_comment  \\\n",
              "0      Cyberpunk 2077  [[, h1, ], for, me, this, is, the, end, of, th...   \n",
              "1      Cyberpunk 2077  [cyberpunk, 2077, is, a, science, fiction, rol...   \n",
              "2      Cyberpunk 2077  [this, game, has, done, so, much, for, me, ,, ...   \n",
              "3      Cyberpunk 2077  [probably, my, favorite, game, ever, ,, cyberp...   \n",
              "4      Cyberpunk 2077  [patch, 1.5, made, the, game, what, it, should...   \n",
              "...               ...                                                ...   \n",
              "99995  Baldurs Gate 3  [best, rpg, in, recent, years, ., exceptionall...   \n",
              "99996  Baldurs Gate 3  [its, a, great, story, game, with, impactful, ...   \n",
              "99997  Baldurs Gate 3  [already, in, love, with, this, title, ., abso...   \n",
              "99998  Baldurs Gate 3  [incredible, game, ,, and, very, friendly, to,...   \n",
              "99999  Baldurs Gate 3  [game, of, the, year, ,, who, says, otherwise,...   \n",
              "\n",
              "                                        filtered_comment  \\\n",
              "0      [[, h1, ], end, night, city, story, ., [, /h1,...   \n",
              "1      [cyberpunk, 2077, science, fiction, role, play...   \n",
              "2      [game, done, much, ,, thats, personal, bias, ....   \n",
              "3      [probably, favorite, game, ever, ,, cyberpunk,...   \n",
              "4      [patch, 1.5, made, game, released, ., 've, don...   \n",
              "...                                                  ...   \n",
              "99995  [best, rpg, recent, years, ., exceptionally, p...   \n",
              "99996  [great, story, game, impactful, choices, ., go...   \n",
              "99997  [already, love, title, ., absolutely, one, gre...   \n",
              "99998  [incredible, game, ,, friendly, non-d, &, play...   \n",
              "99999  [game, year, ,, says, otherwise, n't, even, pl...   \n",
              "\n",
              "                                       processed_comment  \n",
              "0      [[, h1, ], end, night, citi, stori, ., [, /h1,...  \n",
              "1      [cyberpunk, 2077, scienc, fiction, role, play,...  \n",
              "2      [game, done, much, ,, that, person, bia, ., cy...  \n",
              "3      [probabl, favorit, game, ever, ,, cyberpunk, g...  \n",
              "4      [patch, 1.5, made, game, releas, ., 've, done,...  \n",
              "...                                                  ...  \n",
              "99995  [best, rpg, recent, year, ., except, polish, g...  \n",
              "99996  [great, stori, game, impact, choic, ., good, g...  \n",
              "99997  [alreadi, love, titl, ., absolut, one, greates...  \n",
              "99998  [incred, game, ,, friendli, non-d, &, player, ...  \n",
              "99999  [game, year, ,, say, otherwis, n't, even, play...  \n",
              "\n",
              "[99848 rows x 6 columns]"
            ]
          },
          "execution_count": 162,
          "metadata": {},
          "output_type": "execute_result"
        }
      ],
      "source": [
        "data = comments\n",
        "# Pre-processing\n",
        "data['comment'] = data['comment'].str.lower() # Küçük harflere çevirme\n",
        "data['comment'] = data['comment'].str.replace('[^\\w\\s]', '') # Özel karakterleri kaldırma\n",
        "data['tokenized_comment'] = data['comment'].apply(word_tokenize) # Kelimeleri ayırma\n",
        "# Stopwordleri kaldırma\n",
        "stop_words = set(stopwords.words('english'))\n",
        "data['filtered_comment'] = data['tokenized_comment'].apply(lambda tokens: [word for word in tokens if word not in stop_words])\n",
        "# Stemming\n",
        "stemmer = PorterStemmer()\n",
        "data['processed_comment'] = data['filtered_comment'].apply(lambda tokens: [stemmer.stem(word) for word in tokens])\n",
        "\n",
        "data"
      ]
    },
    {
      "cell_type": "code",
      "execution_count": null,
      "metadata": {
        "id": "rICJWTBAnYow"
      },
      "outputs": [],
      "source": [
        "comments.to_csv(\"preprocessed_reviews.csv\", index=False, encoding=\"utf-8\")"
      ]
    },
    {
      "cell_type": "code",
      "execution_count": null,
      "metadata": {
        "id": "9beoUSW1nrMn"
      },
      "outputs": [],
      "source": [
        "# 5-fold cross validate\n",
        "cv = StratifiedKFold(n_splits=5, shuffle=True, random_state=50)"
      ]
    },
    {
      "cell_type": "markdown",
      "metadata": {
        "id": "UrsbDx6Ktmve"
      },
      "source": [
        "# Knn Tf-Idf"
      ]
    },
    {
      "cell_type": "code",
      "execution_count": null,
      "metadata": {
        "colab": {
          "base_uri": "https://localhost:8080/"
        },
        "id": "Ax4yKT7Ito43",
        "outputId": "db3bd2de-d338-4acf-c17f-bb07feb5bbba"
      },
      "outputs": [
        {
          "name": "stdout",
          "output_type": "stream",
          "text": [
            "Average accuracy across folds: 0.8286695936036862\n",
            "Average precision across folds: 0.8394497357008592\n",
            "Average recall across folds: 0.9734509073277128\n",
            "Average f1 across folds: 0.9014975099983253\n",
            "Average Training Time across folds: 0.026793766021728515 seconds\n",
            "Average Test Time across folds: 85.5180212020874 seconds\n"
          ]
        }
      ],
      "source": [
        "tfidf_vectorizer = TfidfVectorizer(max_features=500)\n",
        "X = tfidf_vectorizer.fit_transform(data['processed_comment'].astype('str'))\n",
        "y = data['positive']\n",
        "\n",
        "# Metrikler\n",
        "scoring_metrics = ['accuracy', 'precision', 'recall', 'f1']\n",
        "\n",
        "# 5-fold cross-validation ile metrikleri ve süreleri ölçme\n",
        "cv_results = cross_validate(knn_classifier, X, y, cv=cv, scoring=scoring_metrics, return_train_score=False)\n",
        "\n",
        "# Sonuçları yazdır\n",
        "for metric in scoring_metrics:\n",
        "    average_metric = cv_results[f'test_{metric}'].mean()\n",
        "    print(f\"Average {metric} across folds: {average_metric}\")\n",
        "\n",
        "# Süreleri yazdır\n",
        "average_training_time = cv_results['fit_time'].mean()\n",
        "average_test_time = cv_results['score_time'].mean()\n",
        "print(f\"Average Training Time across folds: {average_training_time} seconds\")\n",
        "print(f\"Average Test Time across folds: {average_test_time} seconds\")"
      ]
    },
    {
      "cell_type": "markdown",
      "metadata": {
        "id": "8K4VpjUnpBnk"
      },
      "source": [
        "# Naive Bayes Tf-Idf"
      ]
    },
    {
      "cell_type": "code",
      "execution_count": null,
      "metadata": {
        "colab": {
          "base_uri": "https://localhost:8080/"
        },
        "id": "d1Azkwftnrvm",
        "outputId": "dcea7445-b0e6-4928-b138-d569be9cbd03"
      },
      "outputs": [
        {
          "name": "stdout",
          "output_type": "stream",
          "text": [
            "Average accuracy across folds: 0.8909342344931088\n",
            "Average precision across folds: 0.906430448716937\n",
            "Average recall across folds: 0.96411209257473\n",
            "Average f1 across folds: 0.9343794685087875\n",
            "Average Training Time across folds: 0.05533242225646973 seconds\n",
            "Average Test Time across folds: 0.03376989364624024 seconds\n"
          ]
        }
      ],
      "source": [
        "tfidf_vectorizer = TfidfVectorizer(max_features=2500)\n",
        "X = tfidf_vectorizer.fit_transform(data['processed_comment'].astype('str'))\n",
        "y = data['positive']\n",
        "\n",
        "# Metrikler\n",
        "scoring_metrics = ['accuracy', 'precision', 'recall', 'f1']\n",
        "\n",
        "# 5-fold cross-validation ile metrikleri ve süreleri ölçme\n",
        "cv_results = cross_validate(bayes_multi_classifier, X, y, cv=cv, scoring=scoring_metrics, return_train_score=False)\n",
        "\n",
        "# Sonuçları yazdır\n",
        "for metric in scoring_metrics:\n",
        "    average_metric = cv_results[f'test_{metric}'].mean()\n",
        "    print(f\"Average {metric} across folds: {average_metric}\")\n",
        "\n",
        "# Süreleri yazdır\n",
        "average_training_time = cv_results['fit_time'].mean()\n",
        "average_test_time = cv_results['score_time'].mean()\n",
        "print(f\"Average Training Time across folds: {average_training_time} seconds\")\n",
        "print(f\"Average Test Time across folds: {average_test_time} seconds\")"
      ]
    },
    {
      "cell_type": "markdown",
      "metadata": {
        "id": "gSX07NnJpEbI"
      },
      "source": [
        "# Decision Tree Tf-Idf"
      ]
    },
    {
      "cell_type": "code",
      "execution_count": null,
      "metadata": {
        "colab": {
          "base_uri": "https://localhost:8080/"
        },
        "id": "wgPucIqeohfP",
        "outputId": "9205cbd4-d3cf-48d9-d08f-0134d6a27507"
      },
      "outputs": [
        {
          "name": "stdout",
          "output_type": "stream",
          "text": [
            "Average accuracy across folds: 0.8306425986819379\n",
            "Average precision across folds: 0.8924845298223408\n",
            "Average recall across folds: 0.8978947264410808\n",
            "Average f1 across folds: 0.8951785738166421\n",
            "Average Training Time across folds: 115.7506058216095 seconds\n",
            "Average Test Time across folds: 0.07370519638061523 seconds\n"
          ]
        }
      ],
      "source": [
        "tfidf_vectorizer = TfidfVectorizer(max_features=2500)\n",
        "X = tfidf_vectorizer.fit_transform(data['processed_comment'].astype('str'))\n",
        "y = data['positive']\n",
        "\n",
        "# Metrikler\n",
        "scoring_metrics = ['accuracy', 'precision', 'recall', 'f1']\n",
        "\n",
        "# 5-fold cross-validation ile metrikleri ve süreleri ölçme\n",
        "cv_results = cross_validate(decision_tree_classifier, X, y, cv=cv, scoring=scoring_metrics, return_train_score=False)\n",
        "\n",
        "# Sonuçları yazdır\n",
        "for metric in scoring_metrics:\n",
        "    average_metric = cv_results[f'test_{metric}'].mean()\n",
        "    print(f\"Average {metric} across folds: {average_metric}\")\n",
        "\n",
        "# Süreleri yazdır\n",
        "average_training_time = cv_results['fit_time'].mean()\n",
        "average_test_time = cv_results['score_time'].mean()\n",
        "print(f\"Average Training Time across folds: {average_training_time} seconds\")\n",
        "print(f\"Average Test Time across folds: {average_test_time} seconds\")"
      ]
    },
    {
      "cell_type": "markdown",
      "metadata": {
        "id": "M_nrp-QOtyRV"
      },
      "source": [
        "# Knn Tf-Idf Feature Selection"
      ]
    },
    {
      "cell_type": "code",
      "execution_count": null,
      "metadata": {
        "colab": {
          "base_uri": "https://localhost:8080/"
        },
        "id": "6jvPWFUUtwXW",
        "outputId": "cadf822c-5293-46d6-fee9-d4d346575a39"
      },
      "outputs": [
        {
          "name": "stdout",
          "output_type": "stream",
          "text": [
            "Average accuracy across folds: 0.8261157021726188\n",
            "Average precision across folds: 0.8337655774382092\n",
            "Average recall across folds: 0.9793700672353067\n",
            "Average f1 across folds: 0.9007197764123183\n",
            "Average Training Time across folds: 0.021852397918701173 seconds\n",
            "Average Test Time across folds: 75.00743532180786 seconds\n"
          ]
        }
      ],
      "source": [
        "# TF-IDF vektörleme\n",
        "tfidf_vectorizer = TfidfVectorizer(max_features=1000)\n",
        "X = tfidf_vectorizer.fit_transform(data['processed_comment'].astype('str'))\n",
        "y = data['positive']\n",
        "\n",
        "# Feature Selection\n",
        "k_best_features = 500  # Öznitelik sayısı\n",
        "X_selected = SelectKBest(chi2, k=k_best_features).fit_transform(X, y)\n",
        "\n",
        "# Metrikler\n",
        "scoring_metrics = ['accuracy', 'precision', 'recall', 'f1']\n",
        "\n",
        "# 5-fold cross-validation ile metrikleri ve süreleri ölçme\n",
        "cv_results = cross_validate(knn_classifier, X_selected, y, cv=cv, scoring=scoring_metrics, return_train_score=False)\n",
        "\n",
        "# Sonuçları yazdır\n",
        "for metric in scoring_metrics:\n",
        "    average_metric = cv_results[f'test_{metric}'].mean()\n",
        "    print(f\"Average {metric} across folds: {average_metric}\")\n",
        "\n",
        "# Süreleri yazdır\n",
        "average_training_time = cv_results['fit_time'].mean()\n",
        "average_test_time = cv_results['score_time'].mean()\n",
        "print(f\"Average Training Time across folds: {average_training_time} seconds\")\n",
        "print(f\"Average Test Time across folds: {average_test_time} seconds\")"
      ]
    },
    {
      "cell_type": "markdown",
      "metadata": {
        "id": "urCBCyewt8kr"
      },
      "source": [
        "# Naive Bayes Tf-Idf Fs"
      ]
    },
    {
      "cell_type": "code",
      "execution_count": null,
      "metadata": {
        "colab": {
          "base_uri": "https://localhost:8080/"
        },
        "id": "zLF8BWH_t9NH",
        "outputId": "ea88eaaf-4cbf-48c3-d727-12e3edf9a30a"
      },
      "outputs": [
        {
          "name": "stdout",
          "output_type": "stream",
          "text": [
            "Average accuracy across folds: 0.8935081454371451\n",
            "Average precision across folds: 0.9091182623455815\n",
            "Average recall across folds: 0.9641742653902305\n",
            "Average f1 across folds: 0.9358338693281294\n",
            "Average Training Time across folds: 0.04174189567565918 seconds\n",
            "Average Test Time across folds: 0.02909255027770996 seconds\n"
          ]
        }
      ],
      "source": [
        "# TF-IDF vektörleme\n",
        "tfidf_vectorizer = TfidfVectorizer(max_features=5000)\n",
        "X = tfidf_vectorizer.fit_transform(data['processed_comment'].astype('str'))\n",
        "y = data['positive']\n",
        "\n",
        "# Feature Selection\n",
        "k_best_features = 2500\n",
        "X_selected = SelectKBest(chi2, k=k_best_features).fit_transform(X, y)\n",
        "\n",
        "# Metrikler\n",
        "scoring_metrics = ['accuracy', 'precision', 'recall', 'f1']\n",
        "\n",
        "# 5-fold cross-validation ile metrikleri ve süreleri ölçme\n",
        "cv_results = cross_validate(bayes_multi_classifier, X_selected, y, cv=cv, scoring=scoring_metrics, return_train_score=False)\n",
        "\n",
        "# Sonuçları yazdır\n",
        "for metric in scoring_metrics:\n",
        "    average_metric = cv_results[f'test_{metric}'].mean()\n",
        "    print(f\"Average {metric} across folds: {average_metric}\")\n",
        "\n",
        "# Süreleri yazdır\n",
        "average_training_time = cv_results['fit_time'].mean()\n",
        "average_test_time = cv_results['score_time'].mean()\n",
        "print(f\"Average Training Time across folds: {average_training_time} seconds\")\n",
        "print(f\"Average Test Time across folds: {average_test_time} seconds\")"
      ]
    },
    {
      "cell_type": "markdown",
      "metadata": {
        "id": "mlsMzz9NuEDi"
      },
      "source": [
        "# Decision Tree Tf-Idf Fs"
      ]
    },
    {
      "cell_type": "code",
      "execution_count": null,
      "metadata": {
        "colab": {
          "base_uri": "https://localhost:8080/"
        },
        "id": "cCa0OHO5uF_s",
        "outputId": "152f7aed-6d1e-40b9-87e5-d9d9ecab9a71"
      },
      "outputs": [
        {
          "name": "stdout",
          "output_type": "stream",
          "text": [
            "Average accuracy across folds: 0.8320647865483439\n",
            "Average precision across folds: 0.8940585393794247\n",
            "Average recall across folds: 0.8978823102791672\n",
            "Average f1 across folds: 0.8959647557138182\n",
            "Average Training Time across folds: 80.38077049255371 seconds\n",
            "Average Test Time across folds: 0.06387548446655274 seconds\n"
          ]
        }
      ],
      "source": [
        "# TF-IDF vektörleme\n",
        "tfidf_vectorizer = TfidfVectorizer(max_features=2500)\n",
        "X = tfidf_vectorizer.fit_transform(data['processed_comment'].astype('str'))\n",
        "y = data['positive']\n",
        "\n",
        "# Feature Selection\n",
        "k_best_features = 1500\n",
        "X_selected = SelectKBest(chi2, k=k_best_features).fit_transform(X, y)\n",
        "\n",
        "# Metrikler\n",
        "scoring_metrics = ['accuracy', 'precision', 'recall', 'f1']\n",
        "\n",
        "# 5-fold cross-validation ile metrikleri ve süreleri ölçme\n",
        "cv_results = cross_validate(decision_tree_classifier, X_selected, y, cv=cv, scoring=scoring_metrics, return_train_score=False)\n",
        "\n",
        "# Sonuçları yazdır\n",
        "for metric in scoring_metrics:\n",
        "    average_metric = cv_results[f'test_{metric}'].mean()\n",
        "    print(f\"Average {metric} across folds: {average_metric}\")\n",
        "\n",
        "# Süreleri yazdır\n",
        "average_training_time = cv_results['fit_time'].mean()\n",
        "average_test_time = cv_results['score_time'].mean()\n",
        "print(f\"Average Training Time across folds: {average_training_time} seconds\")\n",
        "print(f\"Average Test Time across folds: {average_test_time} seconds\")"
      ]
    },
    {
      "cell_type": "markdown",
      "metadata": {
        "id": "Q2YJ1U3OuKOp"
      },
      "source": [
        "# Knn Tf-Idf Pca"
      ]
    },
    {
      "cell_type": "code",
      "execution_count": null,
      "metadata": {
        "colab": {
          "base_uri": "https://localhost:8080/"
        },
        "id": "dCPVhJdauLGe",
        "outputId": "e0dbf01a-afcd-4aab-d71d-d2d9a46a3121"
      },
      "outputs": [
        {
          "name": "stdout",
          "output_type": "stream",
          "text": [
            "Average accuracy across folds: 0.8347688626936097\n",
            "Average precision across folds: 0.8867727189377288\n",
            "Average recall across folds: 0.9112128688991389\n",
            "Average f1 across folds: 0.8988148032062669\n",
            "Average Fit Time across folds: 0.1008988857269287 seconds\n",
            "Average Score Time across folds: 33.807275247573855 seconds\n"
          ]
        }
      ],
      "source": [
        "# TF-IDF vektörleme\n",
        "tfidf_vectorizer = TfidfVectorizer(max_features=1500)\n",
        "X = tfidf_vectorizer.fit_transform(data['processed_comment'].astype('str'))\n",
        "y = data['positive']\n",
        "\n",
        "# PCA\n",
        "pca = PCA(n_components=250)\n",
        "X_pca = pca.fit_transform(X.toarray())\n",
        "\n",
        "# Metrikler\n",
        "scoring_metrics = ['accuracy', 'precision', 'recall', 'f1']\n",
        "\n",
        "# 5-fold cross-validation ile metrikleri ve süreleri ölçme\n",
        "cv_results = cross_validate(knn_classifier, X_pca, y, cv=cv, scoring=scoring_metrics, return_train_score=False)\n",
        "\n",
        "# Sonuçları yazdır\n",
        "for metric in scoring_metrics:\n",
        "    average_metric = cv_results[f'test_{metric}'].mean()\n",
        "    print(f\"Average {metric} across folds: {average_metric}\")\n",
        "\n",
        "# Süreleri yazdır\n",
        "average_fit_time = cv_results['fit_time'].mean()\n",
        "average_score_time = cv_results['score_time'].mean()\n",
        "print(f\"Average Fit Time across folds: {average_fit_time} seconds\")\n",
        "print(f\"Average Score Time across folds: {average_score_time} seconds\")\n",
        "# 250 96,12"
      ]
    },
    {
      "cell_type": "markdown",
      "metadata": {
        "id": "PqdpArI9uQDK"
      },
      "source": [
        "# Naive Bayes Tf-Idf Pca"
      ]
    },
    {
      "cell_type": "code",
      "execution_count": null,
      "metadata": {
        "colab": {
          "base_uri": "https://localhost:8080/"
        },
        "id": "sd7kDzKBuQvH",
        "outputId": "d8ec2cf1-3ced-44f7-ef68-a98c4575215f"
      },
      "outputs": [
        {
          "name": "stdout",
          "output_type": "stream",
          "text": [
            "Average accuracy across folds: 0.7876472749085569\n",
            "Average precision across folds: 0.9282443590055376\n",
            "Average recall across folds: 0.7980278056772238\n",
            "Average f1 across folds: 0.8582231743398776\n",
            "Average Fit Time across folds: 0.4209431171417236 seconds\n",
            "Average Score Time across folds: 0.11250529289245606 seconds\n"
          ]
        }
      ],
      "source": [
        "# TF-IDF vektörleme\n",
        "tfidf_vectorizer = TfidfVectorizer(max_features=1500)\n",
        "X = tfidf_vectorizer.fit_transform(data['processed_comment'].astype('str'))\n",
        "y = data['positive']\n",
        "\n",
        "# PCA\n",
        "pca = PCA(n_components=250)\n",
        "X_pca = pca.fit_transform(X.toarray())\n",
        "\n",
        "# Metrikler\n",
        "scoring_metrics = ['accuracy', 'precision', 'recall', 'f1']\n",
        "\n",
        "# 5-fold cross-validation ile metrikleri ve süreleri ölçme\n",
        "cv_results = cross_validate(bayes_gauss_classifier, X_pca, y, cv=cv, scoring=scoring_metrics, return_train_score=False)\n",
        "\n",
        "# Sonuçları yazdır\n",
        "for metric in scoring_metrics:\n",
        "    average_metric = cv_results[f'test_{metric}'].mean()\n",
        "    print(f\"Average {metric} across folds: {average_metric}\")\n",
        "\n",
        "# Süreleri yazdır\n",
        "average_fit_time = cv_results['fit_time'].mean()\n",
        "average_score_time = cv_results['score_time'].mean()\n",
        "print(f\"Average Fit Time across folds: {average_fit_time} seconds\")\n",
        "print(f\"Average Score Time across folds: {average_score_time} seconds\")"
      ]
    },
    {
      "cell_type": "markdown",
      "metadata": {
        "id": "RtCmzWLCuU4Y"
      },
      "source": [
        "# Decision Tree Tf-Idf Pca"
      ]
    },
    {
      "cell_type": "code",
      "execution_count": null,
      "metadata": {
        "colab": {
          "base_uri": "https://localhost:8080/"
        },
        "id": "GWEXymImuVyW",
        "outputId": "9b9ac79e-f8ab-4489-8cfe-9f48db04868b"
      },
      "outputs": [
        {
          "name": "stdout",
          "output_type": "stream",
          "text": [
            "Average accuracy across folds: 0.8098309791293179\n",
            "Average precision across folds: 0.8848785934264715\n",
            "Average recall across folds: 0.8781352146397119\n",
            "Average f1 across folds: 0.8814910343386538\n",
            "Average Fit Time across folds: 277.66824288368224 seconds\n",
            "Average Score Time across folds: 0.05255346298217774 seconds\n"
          ]
        }
      ],
      "source": [
        "# TF-IDF vektörleme\n",
        "tfidf_vectorizer = TfidfVectorizer(max_features=2500)\n",
        "X = tfidf_vectorizer.fit_transform(data['processed_comment'].astype('str'))\n",
        "y = data['positive']\n",
        "\n",
        "# PCA\n",
        "pca = PCA(n_components=500)\n",
        "X_pca = pca.fit_transform(X.toarray())\n",
        "\n",
        "# Metrikler\n",
        "scoring_metrics = ['accuracy', 'precision', 'recall', 'f1']\n",
        "\n",
        "# 5-fold cross-validation ile metrikleri ve süreleri ölçme\n",
        "cv_results = cross_validate(decision_tree_classifier, X_pca, y, cv=cv, scoring=scoring_metrics, return_train_score=False)\n",
        "\n",
        "# Sonuçları yazdır\n",
        "for metric in scoring_metrics:\n",
        "    average_metric = cv_results[f'test_{metric}'].mean()\n",
        "    print(f\"Average {metric} across folds: {average_metric}\")\n",
        "\n",
        "# Süreleri yazdır\n",
        "average_fit_time = cv_results['fit_time'].mean()\n",
        "average_score_time = cv_results['score_time'].mean()\n",
        "print(f\"Average Fit Time across folds: {average_fit_time} seconds\")\n",
        "print(f\"Average Score Time across folds: {average_score_time} seconds\")"
      ]
    },
    {
      "cell_type": "markdown",
      "metadata": {
        "id": "ZQyFS2cMuZdP"
      },
      "source": [
        "# Knn n-gram"
      ]
    },
    {
      "cell_type": "code",
      "execution_count": null,
      "metadata": {
        "colab": {
          "base_uri": "https://localhost:8080/"
        },
        "id": "tzYynCqcuar2",
        "outputId": "bc9e6ff5-0199-4faf-aed6-3905caabc2f3"
      },
      "outputs": [
        {
          "name": "stdout",
          "output_type": "stream",
          "text": [
            "Average accuracy across folds: 0.8302319065257209\n",
            "Average precision across folds: 0.8458933488997381\n",
            "Average recall across folds: 0.9650322338531637\n",
            "Average f1 across folds: 0.9015392448186841\n",
            "Average Training Time across folds: 0.04028611183166504 seconds\n",
            "Average Test Time across folds: 106.8772177696228 seconds\n"
          ]
        }
      ],
      "source": [
        "# Most popular n-gram yaklaşımı kullanarak kelime sayma (count) vektörleme\n",
        "ngram_range = (1, 2)  # bigram (2-gram)\n",
        "count_vectorizer = CountVectorizer(max_features=2500, ngram_range=ngram_range)\n",
        "X = count_vectorizer.fit_transform(data['processed_comment'].astype('str'))\n",
        "y = data['positive']\n",
        "\n",
        "# Metrikler\n",
        "scoring_metrics = ['accuracy', 'precision', 'recall', 'f1']\n",
        "\n",
        "# 5-fold cross-validation ile metrikleri ve süreleri ölçme\n",
        "cv_results = cross_validate(knn_classifier, X, y, cv=cv, scoring=scoring_metrics, return_train_score=False)\n",
        "\n",
        "# Sonuçları yazdır\n",
        "for metric in scoring_metrics:\n",
        "    average_metric = cv_results[f'test_{metric}'].mean()\n",
        "    print(f\"Average {metric} across folds: {average_metric}\")\n",
        "\n",
        "# Süreleri yazdır\n",
        "average_training_time = cv_results['fit_time'].mean()\n",
        "average_test_time = cv_results['score_time'].mean()\n",
        "print(f\"Average Training Time across folds: {average_training_time} seconds\")\n",
        "print(f\"Average Test Time across folds: {average_test_time} seconds\")"
      ]
    },
    {
      "cell_type": "markdown",
      "metadata": {
        "id": "gmFcwWffudY-"
      },
      "source": [
        "# Naive Bayes n-gram"
      ]
    },
    {
      "cell_type": "code",
      "execution_count": null,
      "metadata": {
        "colab": {
          "base_uri": "https://localhost:8080/"
        },
        "id": "h_V6yLIkufKn",
        "outputId": "d1078195-d891-4029-ba16-12682c914dcd"
      },
      "outputs": [
        {
          "name": "stdout",
          "output_type": "stream",
          "text": [
            "Average accuracy across folds: 0.8657860499999336\n",
            "Average precision across folds: 0.965673636203309\n",
            "Average recall across folds: 0.8640710989063308\n",
            "Average f1 across folds: 0.9120492099102497\n",
            "Average Training Time across folds: 0.05099921226501465 seconds\n",
            "Average Test Time across folds: 0.0324190616607666 seconds\n"
          ]
        }
      ],
      "source": [
        "# Most popular n-gram yaklaşımı kullanarak kelime sayma (count) vektörleme\n",
        "ngram_range = (1, 2)  # bigram (2-gram)\n",
        "count_vectorizer = CountVectorizer(max_features=5000, ngram_range=ngram_range)\n",
        "X = count_vectorizer.fit_transform(data['processed_comment'].astype('str'))\n",
        "y = data['positive']\n",
        "\n",
        "# Metrikler\n",
        "scoring_metrics = ['accuracy', 'precision', 'recall', 'f1']\n",
        "\n",
        "# 5-fold cross-validation ile metrikleri ve süreleri ölçme\n",
        "cv_results = cross_validate(bayes_multi_classifier, X, y, cv=cv, scoring=scoring_metrics, return_train_score=False)\n",
        "\n",
        "# Sonuçları yazdır\n",
        "for metric in scoring_metrics:\n",
        "    average_metric = cv_results[f'test_{metric}'].mean()\n",
        "    print(f\"Average {metric} across folds: {average_metric}\")\n",
        "\n",
        "# Süreleri yazdır\n",
        "average_training_time = cv_results['fit_time'].mean()\n",
        "average_test_time = cv_results['score_time'].mean()\n",
        "print(f\"Average Training Time across folds: {average_training_time} seconds\")\n",
        "print(f\"Average Test Time across folds: {average_test_time} seconds\")"
      ]
    },
    {
      "cell_type": "markdown",
      "metadata": {
        "id": "DTM50qo1pH9_"
      },
      "source": [
        "# Decision Tree n-gram"
      ]
    },
    {
      "cell_type": "code",
      "execution_count": null,
      "metadata": {
        "colab": {
          "base_uri": "https://localhost:8080/"
        },
        "id": "dRA8mkjLpLyi",
        "outputId": "0da6b111-5123-4182-dd28-294292c64697"
      },
      "outputs": [
        {
          "name": "stdout",
          "output_type": "stream",
          "text": [
            "Average accuracy across folds: 0.8321548565524435\n",
            "Average precision across folds: 0.894492042329329\n",
            "Average recall across folds: 0.8974594734356683\n",
            "Average f1 across folds: 0.8959707161163866\n",
            "Average Training Time across folds: 89.55081295967102 seconds\n",
            "Average Test Time across folds: 0.0871312141418457 seconds\n"
          ]
        }
      ],
      "source": [
        "# Most popular n-gram yaklaşımı kullanarak kelime sayma (count) vektörleme\n",
        "ngram_range = (1, 2)  # bigram (2-gram)\n",
        "count_vectorizer = CountVectorizer(max_features=5000, ngram_range=ngram_range)\n",
        "X = count_vectorizer.fit_transform(data['processed_comment'].astype('str'))\n",
        "y = data['positive']\n",
        "\n",
        "# Metrikler\n",
        "scoring_metrics = ['accuracy', 'precision', 'recall', 'f1']\n",
        "\n",
        "# 5-fold cross-validation ile metrikleri ve süreleri ölçme\n",
        "cv_results = cross_validate(decision_tree_classifier, X, y, cv=cv, scoring=scoring_metrics, return_train_score=False)\n",
        "\n",
        "# Sonuçları yazdır\n",
        "for metric in scoring_metrics:\n",
        "    average_metric = cv_results[f'test_{metric}'].mean()\n",
        "    print(f\"Average {metric} across folds: {average_metric}\")\n",
        "\n",
        "# Süreleri yazdır\n",
        "average_training_time = cv_results['fit_time'].mean()\n",
        "average_test_time = cv_results['score_time'].mean()\n",
        "print(f\"Average Training Time across folds: {average_training_time} seconds\")\n",
        "print(f\"Average Test Time across folds: {average_test_time} seconds\")"
      ]
    },
    {
      "cell_type": "markdown",
      "metadata": {
        "id": "In3B_5wvujRf"
      },
      "source": [
        "# Knn n-gram Fs"
      ]
    },
    {
      "cell_type": "code",
      "execution_count": null,
      "metadata": {
        "colab": {
          "base_uri": "https://localhost:8080/"
        },
        "id": "YZvqdbgkuj4x",
        "outputId": "e0e40875-9448-459d-9abc-09938453d58f"
      },
      "outputs": [
        {
          "name": "stdout",
          "output_type": "stream",
          "text": [
            "Average accuracy across folds: 0.829190338665392\n",
            "Average precision across folds: 0.8396441326247818\n",
            "Average recall across folds: 0.9739234064993887\n",
            "Average f1 across folds: 0.9018100764481843\n",
            "Average Training Time across folds: 0.027766990661621093 seconds\n",
            "Average Test Time across folds: 97.20839161872864 seconds\n"
          ]
        }
      ],
      "source": [
        "# Most popular n-gram yaklaşımı kullanarak kelime sayma (count) vektörleme\n",
        "ngram_range = (1, 2)  # bigram (2-gram)\n",
        "count_vectorizer = CountVectorizer(max_features=2500, ngram_range=ngram_range)\n",
        "X = count_vectorizer.fit_transform(data['processed_comment'].astype('str'))\n",
        "y = data['positive']\n",
        "\n",
        "# Feature Selection\n",
        "k_best_features = 1500\n",
        "X_selected = SelectKBest(chi2, k=k_best_features).fit_transform(X, y)\n",
        "\n",
        "# Metrikler\n",
        "scoring_metrics = ['accuracy', 'precision', 'recall', 'f1']\n",
        "\n",
        "# 5-fold cross-validation ile metrikleri ve süreleri ölçme\n",
        "cv_results = cross_validate(knn_classifier, X_selected, y, cv=cv, scoring=scoring_metrics, return_train_score=False)\n",
        "\n",
        "# Sonuçları yazdır\n",
        "for metric in scoring_metrics:\n",
        "    average_metric = cv_results[f'test_{metric}'].mean()\n",
        "    print(f\"Average {metric} across folds: {average_metric}\")\n",
        "\n",
        "# Süreleri yazdır\n",
        "average_training_time = cv_results['fit_time'].mean()\n",
        "average_test_time = cv_results['score_time'].mean()\n",
        "print(f\"Average Training Time across folds: {average_training_time} seconds\")\n",
        "print(f\"Average Test Time across folds: {average_test_time} seconds\")"
      ]
    },
    {
      "cell_type": "markdown",
      "metadata": {
        "id": "NkjIpIzSunsr"
      },
      "source": [
        "# Naive Bayes n-gram Fs"
      ]
    },
    {
      "cell_type": "code",
      "execution_count": null,
      "metadata": {
        "colab": {
          "base_uri": "https://localhost:8080/"
        },
        "id": "VYs_P_mnuonp",
        "outputId": "c5ff06ac-3b17-45f7-bb53-111f3175eb5f"
      },
      "outputs": [
        {
          "name": "stdout",
          "output_type": "stream",
          "text": [
            "Average accuracy across folds: 0.8623908776179443\n",
            "Average precision across folds: 0.9656969266983847\n",
            "Average recall across folds: 0.8596814564424665\n",
            "Average f1 across folds: 0.9096074708947809\n",
            "Average Training Time across folds: 0.04324350357055664 seconds\n",
            "Average Test Time across folds: 0.031188821792602538 seconds\n"
          ]
        }
      ],
      "source": [
        "# Most popular n-gram yaklaşımı kullanarak kelime sayma (count) vektörleme\n",
        "ngram_range = (1, 2)  # bigram (2-gram)\n",
        "count_vectorizer = CountVectorizer(max_features=5000, ngram_range=ngram_range)\n",
        "X = count_vectorizer.fit_transform(data['processed_comment'].astype('str'))\n",
        "y = data['positive']\n",
        "\n",
        "# Feature Selection\n",
        "k_best_features = 2500\n",
        "X_selected = SelectKBest(chi2, k=k_best_features).fit_transform(X, y)\n",
        "\n",
        "# Metrikler\n",
        "scoring_metrics = ['accuracy', 'precision', 'recall', 'f1']\n",
        "\n",
        "# 5-fold cross-validation ile metrikleri ve süreleri ölçme\n",
        "cv_results = cross_validate(bayes_multi_classifier, X_selected, y, cv=cv, scoring=scoring_metrics, return_train_score=False)\n",
        "\n",
        "# Sonuçları yazdır\n",
        "for metric in scoring_metrics:\n",
        "    average_metric = cv_results[f'test_{metric}'].mean()\n",
        "    print(f\"Average {metric} across folds: {average_metric}\")\n",
        "\n",
        "# Süreleri yazdır\n",
        "average_training_time = cv_results['fit_time'].mean()\n",
        "average_test_time = cv_results['score_time'].mean()\n",
        "print(f\"Average Training Time across folds: {average_training_time} seconds\")\n",
        "print(f\"Average Test Time across folds: {average_test_time} seconds\")"
      ]
    },
    {
      "cell_type": "markdown",
      "metadata": {
        "id": "5hL827kAur_g"
      },
      "source": [
        "# Decision Tree n-gram Fs"
      ]
    },
    {
      "cell_type": "code",
      "execution_count": null,
      "metadata": {
        "colab": {
          "base_uri": "https://localhost:8080/"
        },
        "id": "bMyjm_mIuspn",
        "outputId": "592b4150-4218-429a-8c99-7ca02011c389"
      },
      "outputs": [
        {
          "name": "stdout",
          "output_type": "stream",
          "text": [
            "Average accuracy across folds: 0.8317442361148013\n",
            "Average precision across folds: 0.8932003992901526\n",
            "Average recall across folds: 0.8985288862211809\n",
            "Average f1 across folds: 0.8958537872842814\n",
            "Average Training Time across folds: 63.21922769546509 seconds\n",
            "Average Test Time across folds: 0.06894512176513672 seconds\n"
          ]
        }
      ],
      "source": [
        "# Most popular n-gram yaklaşımı kullanarak kelime sayma (count) vektörleme\n",
        "ngram_range = (1, 2)  # bigram (2-gram)\n",
        "count_vectorizer = CountVectorizer(max_features=2500, ngram_range=ngram_range)\n",
        "X = count_vectorizer.fit_transform(data['processed_comment'].astype('str'))\n",
        "y = data['positive']\n",
        "\n",
        "# Feature Selection\n",
        "k_best_features = 2000\n",
        "X_selected = SelectKBest(chi2, k=k_best_features).fit_transform(X, y)\n",
        "\n",
        "# Metrikler\n",
        "scoring_metrics = ['accuracy', 'precision', 'recall', 'f1']\n",
        "\n",
        "# 5-fold cross-validation ile metrikleri ve süreleri ölçme\n",
        "cv_results = cross_validate(decision_tree_classifier, X_selected, y, cv=cv, scoring=scoring_metrics, return_train_score=False)\n",
        "\n",
        "# Sonuçları yazdır\n",
        "for metric in scoring_metrics:\n",
        "    average_metric = cv_results[f'test_{metric}'].mean()\n",
        "    print(f\"Average {metric} across folds: {average_metric}\")\n",
        "\n",
        "# Süreleri yazdır\n",
        "average_training_time = cv_results['fit_time'].mean()\n",
        "average_test_time = cv_results['score_time'].mean()\n",
        "print(f\"Average Training Time across folds: {average_training_time} seconds\")\n",
        "print(f\"Average Test Time across folds: {average_test_time} seconds\")"
      ]
    },
    {
      "cell_type": "markdown",
      "metadata": {
        "id": "DzQHHHZnuwA-"
      },
      "source": [
        "# Knn n-gram Pca"
      ]
    },
    {
      "cell_type": "code",
      "execution_count": null,
      "metadata": {
        "colab": {
          "base_uri": "https://localhost:8080/"
        },
        "id": "ALXZn9HkuxM9",
        "outputId": "c4f732ab-62cd-4b2e-ddb1-58bc9b42514d"
      },
      "outputs": [
        {
          "name": "stdout",
          "output_type": "stream",
          "text": [
            "Average accuracy across folds: 0.8383242343108032\n",
            "Average precision across folds: 0.8509596480113055\n",
            "Average recall across folds: 0.968974213334975\n",
            "Average f1 across folds: 0.906138272935217\n",
            "Average Training Time across folds: 0.3317446708679199 seconds\n",
            "Average Test Time across folds: 96.45693936347962 seconds\n"
          ]
        }
      ],
      "source": [
        "# Most popular n-gram yaklaşımı kullanarak kelime sayma (count) vektörleme\n",
        "ngram_range = (1, 2)  # bigram (2-gram)\n",
        "count_vectorizer = CountVectorizer(max_features=2500, ngram_range=ngram_range)\n",
        "X = count_vectorizer.fit_transform(data['processed_comment'].astype('str'))\n",
        "y = data['positive']\n",
        "\n",
        "# PCA\n",
        "pca = PCA(n_components=800)\n",
        "X_pca = pca.fit_transform(X.toarray())\n",
        "\n",
        "# Metrikler\n",
        "scoring_metrics = ['accuracy', 'precision', 'recall', 'f1']\n",
        "\n",
        "# 5-fold cross-validation ile metrikleri ve süreleri ölçme\n",
        "cv_results = cross_validate(knn_classifier, X_pca, y, cv=cv, scoring=scoring_metrics, return_train_score=False)\n",
        "\n",
        "# Sonuçları yazdır\n",
        "for metric in scoring_metrics:\n",
        "    average_metric = cv_results[f'test_{metric}'].mean()\n",
        "    print(f\"Average {metric} across folds: {average_metric}\")\n",
        "\n",
        "# Süreleri yazdır\n",
        "average_training_time = cv_results['fit_time'].mean()\n",
        "average_test_time = cv_results['score_time'].mean()\n",
        "print(f\"Average Training Time across folds: {average_training_time} seconds\")\n",
        "print(f\"Average Test Time across folds: {average_test_time} seconds\")"
      ]
    },
    {
      "cell_type": "markdown",
      "metadata": {
        "id": "TCU-qjnHuz31"
      },
      "source": [
        "# Naive Bayes n-gram Pca"
      ]
    },
    {
      "cell_type": "code",
      "execution_count": null,
      "metadata": {
        "colab": {
          "background_save": true
        },
        "id": "aKdceyTdu1Y7",
        "outputId": "38eb9e56-2b45-47d3-b8be-9aabfc238870"
      },
      "outputs": [
        {
          "name": "stdout",
          "output_type": "stream",
          "text": [
            "Average accuracy across folds: 0.7191531069452092\n",
            "Average precision across folds: 0.8394592386517162\n",
            "Average recall across folds: 0.8053644723777549\n",
            "Average f1 across folds: 0.8220141111725798\n",
            "Average Training Time across folds: 0.667252779006958 seconds\n",
            "Average Test Time across folds: 0.1656874179840088 seconds\n"
          ]
        }
      ],
      "source": [
        "# Most popular n-gram yaklaşımı kullanarak kelime sayma (count) vektörleme\n",
        "ngram_range = (1, 2)  # bigram (2-gram)\n",
        "count_vectorizer = CountVectorizer(max_features=2500, ngram_range=ngram_range)\n",
        "X = count_vectorizer.fit_transform(data['processed_comment'].astype('str'))\n",
        "y = data['positive']\n",
        "\n",
        "# PCA\n",
        "pca = PCA(n_components=400)\n",
        "X_pca = pca.fit_transform(X.toarray())\n",
        "\n",
        "# Metrikler\n",
        "scoring_metrics = ['accuracy', 'precision', 'recall', 'f1']\n",
        "\n",
        "# 5-fold cross-validation ile metrikleri ve süreleri ölçme\n",
        "cv_results = cross_validate(bayes_gauss_classifier, X_pca, y, cv=cv, scoring=scoring_metrics, return_train_score=False)\n",
        "\n",
        "# Sonuçları yazdır\n",
        "for metric in scoring_metrics:\n",
        "    average_metric = cv_results[f'test_{metric}'].mean()\n",
        "    print(f\"Average {metric} across folds: {average_metric}\")\n",
        "\n",
        "# Süreleri yazdır\n",
        "average_training_time = cv_results['fit_time'].mean()\n",
        "average_test_time = cv_results['score_time'].mean()\n",
        "print(f\"Average Training Time across folds: {average_training_time} seconds\")\n",
        "print(f\"Average Test Time across folds: {average_test_time} seconds\")"
      ]
    },
    {
      "cell_type": "markdown",
      "metadata": {
        "id": "CtOPn2ezu3tB"
      },
      "source": [
        "# Decision tree n-gram Pca"
      ]
    },
    {
      "cell_type": "code",
      "execution_count": null,
      "metadata": {
        "colab": {
          "background_save": true
        },
        "id": "v3f3Mf_Su511",
        "outputId": "d254fc53-710c-4a0c-af8c-cef396de97e6"
      },
      "outputs": [
        {
          "name": "stdout",
          "output_type": "stream",
          "text": [
            "Average accuracy across folds: 0.7819886532688511\n",
            "Average precision across folds: 0.8710480654544126\n",
            "Average recall across folds: 0.8560628167333215\n",
            "Average f1 across folds: 0.8634836335436757\n",
            "Average Training Time across folds: 179.3046826839447 seconds\n",
            "Average Test Time across folds: 0.05299849510192871 seconds\n"
          ]
        }
      ],
      "source": [
        "# Most popular n-gram yaklaşımı kullanarak kelime sayma (count) vektörleme\n",
        "ngram_range = (1, 2)  # bigram (2-gram)\n",
        "count_vectorizer = CountVectorizer(max_features=2500, ngram_range=ngram_range)\n",
        "X = count_vectorizer.fit_transform(data['processed_comment'].astype('str'))\n",
        "y = data['positive']\n",
        "\n",
        "# PCA\n",
        "pca = PCA(n_components=500)\n",
        "X_pca = pca.fit_transform(X.toarray())\n",
        "\n",
        "# Metrikler\n",
        "scoring_metrics = ['accuracy', 'precision', 'recall', 'f1']\n",
        "\n",
        "# 5-fold cross-validation ile metrikleri ve süreleri ölçme\n",
        "cv_results = cross_validate(decision_tree_classifier, X_pca, y, cv=cv, scoring=scoring_metrics, return_train_score=False)\n",
        "\n",
        "# Sonuçları yazdır\n",
        "for metric in scoring_metrics:\n",
        "    average_metric = cv_results[f'test_{metric}'].mean()\n",
        "    print(f\"Average {metric} across folds: {average_metric}\")\n",
        "\n",
        "# Süreleri yazdır\n",
        "average_training_time = cv_results['fit_time'].mean()\n",
        "average_test_time = cv_results['score_time'].mean()\n",
        "print(f\"Average Training Time across folds: {average_training_time} seconds\")\n",
        "print(f\"Average Test Time across folds: {average_test_time} seconds\")"
      ]
    }
  ],
  "metadata": {
    "colab": {
      "provenance": []
    },
    "kernelspec": {
      "display_name": "Python 3",
      "name": "python3"
    },
    "language_info": {
      "name": "python"
    }
  },
  "nbformat": 4,
  "nbformat_minor": 0
}